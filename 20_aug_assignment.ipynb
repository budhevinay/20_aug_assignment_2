{
 "cells": [
  {
   "cell_type": "code",
   "execution_count": 1,
   "id": "898630f3-3490-4408-b513-2036216cf3bb",
   "metadata": {},
   "outputs": [
    {
     "data": {
      "text/plain": [
       "'gnirts a esrever ot emmagorp a etirw'"
      ]
     },
     "execution_count": 1,
     "metadata": {},
     "output_type": "execute_result"
    }
   ],
   "source": [
    "#1.write a progamme to reverse a string\n",
    "v='write a progamme to reverse a string'\n",
    "v[::-1]"
   ]
  },
  {
   "cell_type": "code",
   "execution_count": 1,
   "id": "30eab378-914a-45fd-b57f-10a099cd5f84",
   "metadata": {},
   "outputs": [
    {
     "name": "stdout",
     "output_type": "stream",
     "text": [
      "this is palindrome\n"
     ]
    }
   ],
   "source": [
    "#2. Check if a string is a palindrome.\n",
    "v='madam'\n",
    "c=v[::-1]\n",
    "if c==v:\n",
    "  print('this is palindrome')\n",
    "else:\n",
    "  print('this is not palidrome')\n",
    "\n"
   ]
  },
  {
   "cell_type": "code",
   "execution_count": 11,
   "id": "6ea4b570-e94b-4d49-905b-418ab53cf3c1",
   "metadata": {},
   "outputs": [
    {
     "data": {
      "text/plain": [
       "'VINAYKUMAR'"
      ]
     },
     "execution_count": 11,
     "metadata": {},
     "output_type": "execute_result"
    }
   ],
   "source": [
    "#3. Convert a string to uppercase.\n",
    "v='vinaykumar'\n",
    "s=v.upper()\n",
    "s"
   ]
  },
  {
   "cell_type": "code",
   "execution_count": 12,
   "id": "d9901607-e298-42fa-991c-1b2197aae795",
   "metadata": {},
   "outputs": [
    {
     "data": {
      "text/plain": [
       "'vinaykumar'"
      ]
     },
     "execution_count": 12,
     "metadata": {},
     "output_type": "execute_result"
    }
   ],
   "source": [
    "#4. Convert a string to lowercase\n",
    "s.lower()"
   ]
  },
  {
   "cell_type": "code",
   "execution_count": 3,
   "id": "5635050e-6b17-42ac-ab8b-14a9ebb34051",
   "metadata": {},
   "outputs": [
    {
     "name": "stdout",
     "output_type": "stream",
     "text": [
      "no of vowels is 11\n"
     ]
    }
   ],
   "source": [
    "#5. Count the number of vowels in a string\n",
    "s='Count the number of vowels in a string'\n",
    "v=['a','e','i','o','u','A','E','I','O','U']\n",
    "x=0   \n",
    "for vowels in s:\n",
    "    if vowels in v:\n",
    "      x+=1\n",
    "print('no of vowels is',x)"
   ]
  },
  {
   "cell_type": "code",
   "execution_count": 11,
   "id": "bf6cae81-a01f-4ce8-88f7-54bd3dbf7b6b",
   "metadata": {},
   "outputs": [
    {
     "name": "stdout",
     "output_type": "stream",
     "text": [
      "no of consonants is 27\n"
     ]
    }
   ],
   "source": [
    "#6. Count the number of consonants in a string.\n",
    "s='Count the number of vowels in a string'\n",
    "v={'a','e','i','o','u','A','E','I','O','U'}\n",
    "x=0   \n",
    "for vowels in s:\n",
    "    if vowels in v:\n",
    "        continue\n",
    "    else:\n",
    "         x+=1\n",
    "print('no of consonants is',x)"
   ]
  },
  {
   "cell_type": "code",
   "execution_count": null,
   "id": "a1b30dac-2689-4c33-8e33-69e49705cb96",
   "metadata": {},
   "outputs": [],
   "source": [
    "#7. Remove all whitespaces from a string\n",
    "a='Remove all whitespaces from a string'\n",
    "a.replace(\" \",\"\")"
   ]
  },
  {
   "cell_type": "code",
   "execution_count": null,
   "id": "087659af-8517-4121-a8b0-c52008733c4e",
   "metadata": {},
   "outputs": [
    {
     "name": "stdout",
     "output_type": "stream",
     "text": [
      "the length of string is 62\n"
     ]
    }
   ],
   "source": [
    "#8. Find the length of a string without using the `len()` function.\n",
    "b='Find the length of a string without using the `len()` function'\n",
    "x=0\n",
    "for every_elements in b:\n",
    "    x+=1\n",
    "print('the length of string is',x)"
   ]
  },
  {
   "cell_type": "code",
   "execution_count": 32,
   "id": "c425855e-0ff9-414f-a551-81a179913736",
   "metadata": {},
   "outputs": [
    {
     "data": {
      "text/plain": [
       "True"
      ]
     },
     "execution_count": 32,
     "metadata": {},
     "output_type": "execute_result"
    }
   ],
   "source": [
    "#9.Check if a string contains a specific word\n",
    "'Check if a string contains a specific word'\n",
    "'string' in 'Check if a string contains a specific word'\n"
   ]
  },
  {
   "cell_type": "code",
   "execution_count": 3,
   "id": "cd168819-4851-433d-98de-e39f297dc32b",
   "metadata": {},
   "outputs": [
    {
     "data": {
      "text/plain": [
       "True"
      ]
     },
     "execution_count": 3,
     "metadata": {},
     "output_type": "execute_result"
    }
   ],
   "source": [
    "#9. Check if a string contains a specific word.\n",
    "x=' Check if a string contains a specific word'\n",
    "'C' in x"
   ]
  },
  {
   "cell_type": "code",
   "execution_count": 9,
   "id": "6e19dd65-0f46-498d-8563-d447a7c7354f",
   "metadata": {},
   "outputs": [],
   "source": []
  },
  {
   "cell_type": "code",
   "execution_count": 31,
   "id": "7e083f14-d714-4e06-9dbd-8ad435ea77dd",
   "metadata": {},
   "outputs": [
    {
     "data": {
      "text/plain": [
       "'Replace a another word in a string with another another word'"
      ]
     },
     "execution_count": 31,
     "metadata": {},
     "output_type": "execute_result"
    }
   ],
   "source": [
    "#10. Replace a word in a string with another word\n",
    "x='Replace a word in a string with another word'\n",
    "x.replace('word','another word')"
   ]
  },
  {
   "cell_type": "code",
   "execution_count": 29,
   "id": "3c86ab2f-dbb0-4c19-ae3b-b995ee583e20",
   "metadata": {},
   "outputs": [
    {
     "data": {
      "text/plain": [
       "27"
      ]
     },
     "execution_count": 29,
     "metadata": {},
     "output_type": "execute_result"
    }
   ],
   "source": [
    "#11. Count the occurrences of a word in a string.\n",
    "x='Count the occurrences of a word in a string'\n",
    "x.find(\"word\")"
   ]
  },
  {
   "cell_type": "code",
   "execution_count": 14,
   "id": "47a50791-e099-44af-99c8-912b3d7ac061",
   "metadata": {},
   "outputs": [
    {
     "data": {
      "text/plain": [
       "12"
      ]
     },
     "execution_count": 14,
     "metadata": {},
     "output_type": "execute_result"
    }
   ],
   "source": [
    "#12. Find the first occurrence of a word in a string\n",
    "x='Find the first occurrence of a word in a string'\n",
    "x.find('s')"
   ]
  },
  {
   "cell_type": "code",
   "execution_count": 28,
   "id": "850232be-c90d-47bb-b384-1087aa2b2004",
   "metadata": {},
   "outputs": [
    {
     "data": {
      "text/plain": [
       "46"
      ]
     },
     "execution_count": 28,
     "metadata": {},
     "output_type": "execute_result"
    }
   ],
   "source": [
    "#13. Find the last occurrence of a word in a string.\n",
    "x=' Find the last occurrence of a word in a string'\n",
    "x.rfind('g')"
   ]
  },
  {
   "cell_type": "code",
   "execution_count": 35,
   "id": "0e5a0f98-5b96-431d-8c67-019d38d6d285",
   "metadata": {},
   "outputs": [
    {
     "data": {
      "text/plain": [
       "['Split', 'list', 'of', 'words']"
      ]
     },
     "execution_count": 35,
     "metadata": {},
     "output_type": "execute_result"
    }
   ],
   "source": [
    "#14. Split a string into a list of words\n",
    "x='Split  list of words'\n",
    "x.split()\n"
   ]
  },
  {
   "cell_type": "code",
   "execution_count": null,
   "id": "9ba5b938-7f54-4b21-8586-1a8b3f17d6f3",
   "metadata": {},
   "outputs": [
    {
     "data": {
      "text/plain": [
       "'abcdasdf'"
      ]
     },
     "execution_count": 1,
     "metadata": {},
     "output_type": "execute_result"
    }
   ],
   "source": [
    "#15.Join a list of words into a string\n",
    "a='abcd'\n",
    "b='asdf'\n",
    "c=a+b\n",
    "c\n"
   ]
  },
  {
   "cell_type": "code",
   "execution_count": null,
   "id": "8d057fc9-cb0b-428b-9286-4e842c0f72eb",
   "metadata": {},
   "outputs": [],
   "source": []
  },
  {
   "cell_type": "code",
   "execution_count": 41,
   "id": "248d24ce-8bb9-4203-97ca-63b967b7289a",
   "metadata": {},
   "outputs": [
    {
     "data": {
      "text/plain": [
       "'Convert_a_string_where_words_are_separated_by_spaces_to_one_where_wordsare_separated_by_underscores'"
      ]
     },
     "execution_count": 41,
     "metadata": {},
     "output_type": "execute_result"
    }
   ],
   "source": [
    "'''16.Convert a string where words are separated by spaces to one where words\n",
    "are separated by underscores'''\n",
    "x='Convert a string where words are separated by spaces to one where wordsare separated by underscores'\n",
    "x.replace(\" \", \"_\")"
   ]
  },
  {
   "cell_type": "code",
   "execution_count": 5,
   "id": "dcffd1ce-e4da-46f5-a0ee-3702eb53d873",
   "metadata": {},
   "outputs": [
    {
     "name": "stdout",
     "output_type": "stream",
     "text": [
      " string ends with a specific word or phrase True\n"
     ]
    }
   ],
   "source": [
    "#17. Check if a string starts with a specific word or phrase\n",
    "x='check if a string starts with a specific word or phrase'\n",
    "y='check'\n",
    "z=x.startswith(y)\n",
    "print(' string ends with a specific word or phrase',z)"
   ]
  },
  {
   "cell_type": "code",
   "execution_count": 3,
   "id": "2f56ae11-5954-46ab-8b7b-d148de5ff896",
   "metadata": {},
   "outputs": [
    {
     "name": "stdout",
     "output_type": "stream",
     "text": [
      " string ends with a specific word or phrase True\n"
     ]
    }
   ],
   "source": [
    "#18.Check if a string ends with a specific word or phrase.\n",
    "x='Check if a string ends with a specific word or phrase.'\n",
    "y='phrase.'\n",
    "z=x.endswith(y)\n",
    "print(' string ends with a specific word or phrase',z)"
   ]
  },
  {
   "cell_type": "code",
   "execution_count": 44,
   "id": "3e7c8e00-bde8-434a-829d-ccf27b580294",
   "metadata": {},
   "outputs": [
    {
     "data": {
      "text/plain": [
       "'Hello World'"
      ]
     },
     "execution_count": 44,
     "metadata": {},
     "output_type": "execute_result"
    }
   ],
   "source": [
    "#19. Convert a string to title case (e.g., \"hello world\" to \"Hello World\")\n",
    "x= \"hello world\"\n",
    "x.title()"
   ]
  },
  {
   "cell_type": "code",
   "execution_count": 4,
   "id": "4b151035-7471-47d0-bb27-804c06c0df69",
   "metadata": {},
   "outputs": [
    {
     "data": {
      "text/plain": [
       "'longest'"
      ]
     },
     "execution_count": 4,
     "metadata": {},
     "output_type": "execute_result"
    }
   ],
   "source": [
    "#20. Find the longest word in a string\n",
    "x='Find the longest word in a string'\n",
    "y=x.split()\n",
    "max(y,key=len)"
   ]
  },
  {
   "cell_type": "code",
   "execution_count": 3,
   "id": "9008d58b-5bf6-4d8f-8763-59d23b90fa80",
   "metadata": {},
   "outputs": [
    {
     "data": {
      "text/plain": [
       "'a'"
      ]
     },
     "execution_count": 3,
     "metadata": {},
     "output_type": "execute_result"
    }
   ],
   "source": [
    "#21. Find the shortest word in a string\n",
    "x='Find the shortest word in a string'\n",
    "y=x.split()\n",
    "min(y,key=len)"
   ]
  },
  {
   "cell_type": "code",
   "execution_count": 9,
   "id": "846dbeb4-c2c7-4541-b798-77e08e7474c8",
   "metadata": {},
   "outputs": [
    {
     "data": {
      "text/plain": [
       "'gnirts a ni sdrow fo redro eht esreveR'"
      ]
     },
     "execution_count": 9,
     "metadata": {},
     "output_type": "execute_result"
    }
   ],
   "source": [
    "#22. Reverse the order of words in a string\n",
    "x='Reverse the order of words in a string'\n",
    "x[::-1]"
   ]
  },
  {
   "cell_type": "code",
   "execution_count": 32,
   "id": "0a9c7f52-6d51-4e2b-94aa-18664384bec2",
   "metadata": {},
   "outputs": [
    {
     "data": {
      "text/plain": [
       "True"
      ]
     },
     "execution_count": 33,
     "metadata": {},
     "output_type": "execute_result"
    }
   ],
   "source": [
    "#23.Check if a string is alphanumeric\n",
    "x='10'\n",
    "x.isalnum()"
   ]
  },
  {
   "cell_type": "code",
   "execution_count": 23,
   "id": "3f957f26-5b47-4ed3-bdbe-54202edf4806",
   "metadata": {},
   "outputs": [
    {
     "data": {
      "text/plain": [
       "False"
      ]
     },
     "execution_count": 23,
     "metadata": {},
     "output_type": "execute_result"
    }
   ],
   "source": []
  },
  {
   "cell_type": "code",
   "execution_count": 56,
   "id": "bea2cbf2-acd2-4192-804f-37cce9776dfc",
   "metadata": {},
   "outputs": [
    {
     "name": "stdout",
     "output_type": "stream",
     "text": [
      "10\n",
      "20\n"
     ]
    }
   ],
   "source": [
    "#24. Extract all digits from a string.\n",
    "a='there are 10 dogs and 20 monkeys'\n",
    "for i in a.split():\n",
    "    if i.isdigit():\n",
    "        s=int(i)\n",
    "        print(s)"
   ]
  },
  {
   "cell_type": "code",
   "execution_count": 60,
   "id": "50bf81d7-54a6-4604-ac96-728d3ec03d29",
   "metadata": {},
   "outputs": [
    {
     "name": "stdout",
     "output_type": "stream",
     "text": [
      "t\n",
      "h\n",
      "e\n",
      "r\n",
      "e\n",
      "a\n",
      "r\n",
      "e\n",
      "d\n",
      "o\n",
      "g\n",
      "s\n",
      "a\n",
      "n\n",
      "d\n",
      "m\n",
      "o\n",
      "n\n",
      "k\n",
      "e\n",
      "y\n",
      "s\n"
     ]
    }
   ],
   "source": [
    "#25. Extract all alphabets from a string.\n",
    "a='there are 10 dogs and 20 monkeys'\n",
    "b=a.split()\n",
    "for i in a:\n",
    "    if i.isalpha():\n",
    "        for z in i:\n",
    "            print(z)"
   ]
  },
  {
   "cell_type": "code",
   "execution_count": 15,
   "id": "1d24fa33-9ed7-4f17-b8c4-98439c3dd6c6",
   "metadata": {},
   "outputs": [
    {
     "name": "stdout",
     "output_type": "stream",
     "text": [
      "3\n"
     ]
    }
   ],
   "source": [
    "#26. Count the number of uppercase letters in a String\n",
    "a='Count the number of Uppercase letters in a String'\n",
    "x=0\n",
    "for every_item in a:\n",
    "    if every_item.isupper():\n",
    "        x+=1\n",
    "    else:\n",
    "        continue\n",
    "print(x)\n"
   ]
  },
  {
   "cell_type": "code",
   "execution_count": 16,
   "id": "98ff9a6a-016c-4713-88d6-48005a9a63fc",
   "metadata": {},
   "outputs": [
    {
     "name": "stdout",
     "output_type": "stream",
     "text": [
      "40\n"
     ]
    }
   ],
   "source": [
    "#27. Count the number of lowercase letters in a String\n",
    "a='Count the number of uppercase letters in a string'\n",
    "x=0\n",
    "for every_item in a:\n",
    "    if every_item.islower():\n",
    "        x+=1\n",
    "    else:\n",
    "        continue\n",
    "print(x)\n"
   ]
  },
  {
   "cell_type": "code",
   "execution_count": 7,
   "id": "0c7cdee9-dff3-4b26-a245-b4a584f47b91",
   "metadata": {},
   "outputs": [],
   "source": []
  },
  {
   "cell_type": "code",
   "execution_count": 16,
   "id": "6175fec0-3f2d-4acf-99c3-65332279764d",
   "metadata": {},
   "outputs": [
    {
     "data": {
      "text/plain": [
       "'sWAP THE CASE OF eACH cHARACTER IN A sTRING'"
      ]
     },
     "execution_count": 16,
     "metadata": {},
     "output_type": "execute_result"
    }
   ],
   "source": [
    "#28. Swap the case of each character in a string\n",
    "x='Swap the case of Each Character in a String'\n",
    "x.swapcase()\n"
   ]
  },
  {
   "cell_type": "code",
   "execution_count": 9,
   "id": "62cd52e3-6495-491a-817e-604d7ca1f7fa",
   "metadata": {},
   "outputs": [
    {
     "data": {
      "text/plain": [
       "' a specific word from a string'"
      ]
     },
     "execution_count": 9,
     "metadata": {},
     "output_type": "execute_result"
    }
   ],
   "source": [
    "#29. Remove a specific word from a string\n",
    "x='Remove a specific word from a string'\n",
    "x.replace('Remove','')"
   ]
  },
  {
   "cell_type": "code",
   "execution_count": 29,
   "id": "54c21735-d857-4c80-96f7-e74da072e22a",
   "metadata": {},
   "outputs": [
    {
     "name": "stdout",
     "output_type": "stream",
     "text": [
      "valid email\n"
     ]
    }
   ],
   "source": [
    "#30. Check if a string is a valid email address.\n",
    "x='vinaykumar9948@gmail.com'\n",
    "\n",
    "z=x[x.index('@')+1:]\n",
    "for i in x:\n",
    "    if i=='@' and z=='gmail.com' or 'yahoo.com':\n",
    "        result='valid email'\n",
    "    else:\n",
    "        continue\n",
    "    \n",
    "print(result)\n"
   ]
  },
  {
   "cell_type": "code",
   "execution_count": 68,
   "id": "f46b0de8-f149-4f77-bbc2-89df4cd6d815",
   "metadata": {},
   "outputs": [
    {
     "data": {
      "text/plain": [
       "'vinaykumar9948'"
      ]
     },
     "execution_count": 68,
     "metadata": {},
     "output_type": "execute_result"
    }
   ],
   "source": [
    "#31. Extract the username from an email address string.\n",
    "x='vinaykumar9948@gmail.com'\n",
    "y=x[:x.index('@')]\n",
    "y"
   ]
  },
  {
   "cell_type": "code",
   "execution_count": 69,
   "id": "2f670e25-b90a-4bcf-9e28-651d21240163",
   "metadata": {},
   "outputs": [
    {
     "data": {
      "text/plain": [
       "'gmail.com'"
      ]
     },
     "execution_count": 69,
     "metadata": {},
     "output_type": "execute_result"
    }
   ],
   "source": [
    "#32.Extract the domain name from an email address string.\n",
    "x='vinaykumar9948@gmail.com'\n",
    "y=x[x.index('@')+1:]\n",
    "y"
   ]
  },
  {
   "cell_type": "code",
   "execution_count": 17,
   "id": "6a696f0c-e0a4-40b2-94b6-e386970a48ed",
   "metadata": {},
   "outputs": [
    {
     "data": {
      "text/plain": [
       "'Replace.multiple.spaces.in.a.string.with.a.single.space.'"
      ]
     },
     "execution_count": 17,
     "metadata": {},
     "output_type": "execute_result"
    }
   ],
   "source": [
    "#33. Replace multiple spaces in a string with a single space.\n",
    "x= 'Replace multiple spaces in a string with a single space.'\n",
    "x.replace(\" \", '.')"
   ]
  },
  {
   "cell_type": "code",
   "execution_count": 1,
   "id": "72f82769-f677-40b7-bf1a-6ff651ab5968",
   "metadata": {},
   "outputs": [
    {
     "name": "stdin",
     "output_type": "stream",
     "text": [
      "http://www.example.com/index.htm ('http://www.example.com/index.htm'\n"
     ]
    }
   ],
   "source": [
    "#34. Check if a string is a valid URL.\n",
    "x=input('http://www.example.com/index.htm')\n"
   ]
  },
  {
   "cell_type": "code",
   "execution_count": 2,
   "id": "22489289-f7ea-474c-bf3f-4d3f1c548014",
   "metadata": {},
   "outputs": [
    {
     "data": {
      "text/plain": [
       "\"('http://www.example.com/index.htm'\""
      ]
     },
     "execution_count": 2,
     "metadata": {},
     "output_type": "execute_result"
    }
   ],
   "source": [
    "protocol=='https' or 'http'\n",
    "subdomain=='www'\n",
    "domain=**kwargs +'.com'\n",
    "valid"
   ]
  },
  {
   "cell_type": "code",
   "execution_count": 36,
   "id": "cd51a594-c1fe-4cd8-98f5-fe5f642e7a8d",
   "metadata": {},
   "outputs": [
    {
     "data": {
      "text/plain": [
       "'http'"
      ]
     },
     "execution_count": 36,
     "metadata": {},
     "output_type": "execute_result"
    }
   ],
   "source": [
    "#35. Extract the protocol (http or https) from a URL string.\n",
    "x='http://www.example.com/index.htm'\n",
    "y=x.find('h')\n",
    "z=x[:y+4]\n",
    "z"
   ]
  },
  {
   "cell_type": "code",
   "execution_count": 18,
   "id": "b4f2f1e2-b0cd-4555-a890-a5c0e9bb35b0",
   "metadata": {},
   "outputs": [
    {
     "data": {
      "text/plain": [
       "5"
      ]
     },
     "execution_count": 18,
     "metadata": {},
     "output_type": "execute_result"
    }
   ],
   "source": [
    "#36. Find the frequency of each character in a string.\n",
    "x='Find the frequency of each character in a string.'\n",
    "x.count('e')"
   ]
  },
  {
   "cell_type": "code",
   "execution_count": 18,
   "id": "22533606-1ab4-4297-89af-dd98008d88b4",
   "metadata": {},
   "outputs": [
    {
     "name": "stdout",
     "output_type": "stream",
     "text": [
      "Remove all punctuation from a string\n"
     ]
    }
   ],
   "source": [
    "#37. Remove all punctuation from a string.\n",
    "x=\"Re#@move all: punctuation !from a string\"\n",
    "y='''!@#$%^&*()-,.;:[]{}'''\n",
    "for i in x:\n",
    "    if i in y:\n",
    "        x=x.replace(i,'')\n",
    "print(x)"
   ]
  },
  {
   "cell_type": "code",
   "execution_count": 27,
   "id": "f1cd6a85-dec1-4229-bb76-a487276da7f7",
   "metadata": {},
   "outputs": [
    {
     "name": "stdout",
     "output_type": "stream",
     "text": [
      "contains only digits\n"
     ]
    }
   ],
   "source": [
    "#38.Check if a string contains only digits.\n",
    "a='there are 12 dogs '\n",
    "b=a.split()\n",
    "for i in b:\n",
    "    if i.isdigit():\n",
    "        print('contains only digits')\n",
    "    else:\n",
    "        pass"
   ]
  },
  {
   "cell_type": "code",
   "execution_count": 1,
   "id": "e553e09f-d894-42b5-9fc8-64f5344d4210",
   "metadata": {},
   "outputs": [
    {
     "name": "stdout",
     "output_type": "stream",
     "text": [
      "contains only alphabets\n",
      "contains only alphabets\n",
      "contains only alphabets\n",
      "contains only alphabets\n",
      "contains only alphabets\n",
      "contains only alphabets\n",
      "contains only alphabets\n",
      "contains only alphabets\n",
      "contains only alphabets\n",
      "contains only alphabets\n",
      "contains only alphabets\n",
      "contains only alphabets\n",
      "contains only alphabets\n",
      "contains only alphabets\n",
      "contains only alphabets\n",
      "contains only alphabets\n",
      "contains only alphabets\n",
      "contains only alphabets\n",
      "contains only alphabets\n",
      "contains only alphabets\n",
      "contains only alphabets\n",
      "contains only alphabets\n",
      "contains only alphabets\n",
      "contains only alphabets\n",
      "contains only alphabets\n",
      "contains only alphabets\n",
      "contains only alphabets\n",
      "contains only alphabets\n",
      "contains only alphabets\n",
      "contains only alphabets\n",
      "contains only alphabets\n",
      "contains only alphabets\n",
      "contains only alphabets\n",
      "contains only alphabets\n",
      "contains only alphabets\n",
      "None\n"
     ]
    }
   ],
   "source": [
    "#39.Check if a string contains only alphabets.\n",
    "a=\"Check if a string contains only alphabets\"\n",
    "for i in a:\n",
    "        if i.isalpha():\n",
    "            z=print('contains only alphabets')\n",
    "        else:\n",
    "            pass       \n",
    "        \n",
    "print(z)"
   ]
  },
  {
   "cell_type": "code",
   "execution_count": 97,
   "id": "e0c5a627-0c62-451c-91aa-3846a5dfed5e",
   "metadata": {},
   "outputs": [
    {
     "data": {
      "text/plain": [
       "['C',\n",
       " 'o',\n",
       " 'n',\n",
       " 'v',\n",
       " 'e',\n",
       " 'r',\n",
       " 't',\n",
       " ' ',\n",
       " 'a',\n",
       " ' ',\n",
       " 's',\n",
       " 't',\n",
       " 'r',\n",
       " 'i',\n",
       " 'n',\n",
       " 'g',\n",
       " ' ',\n",
       " 't',\n",
       " 'o',\n",
       " ' ',\n",
       " 'a',\n",
       " ' ',\n",
       " 'l',\n",
       " 'i',\n",
       " 's',\n",
       " 't',\n",
       " ' ',\n",
       " 'o',\n",
       " 'f',\n",
       " ' ',\n",
       " 'c',\n",
       " 'h',\n",
       " 'a',\n",
       " 'r',\n",
       " 'a',\n",
       " 'c',\n",
       " 't',\n",
       " 'e',\n",
       " 'r',\n",
       " 's']"
      ]
     },
     "execution_count": 111,
     "metadata": {},
     "output_type": "execute_result"
    }
   ],
   "source": [
    "#40.Convert a string to a list of characters.\n",
    "x='Convert a string to a list of characters'\n",
    "list('Convert a string to a list of characters')"
   ]
  },
  {
   "cell_type": "code",
   "execution_count": 45,
   "id": "a798da5b-1444-4a92-af87-30f129d64230",
   "metadata": {},
   "outputs": [
    {
     "name": "stdout",
     "output_type": "stream",
     "text": [
      "The strings are anagrams.\n"
     ]
    }
   ],
   "source": [
    "#41. Check if two strings are anagrams.\n",
    "s1 =\"rat\"\n",
    "s2 =\"tar\"\n",
    "if(sorted(s1)== sorted(s2)):\n",
    "        print(\"The strings are anagrams.\")\n",
    "else:\n",
    "        print(\"The strings aren't anagrams.\")        \n",
    "         \n",
    "\n",
    "            "
   ]
  },
  {
   "cell_type": "code",
   "execution_count": 5,
   "id": "b590fa92-0ca0-4913-aa24-f5e5226da4ff",
   "metadata": {},
   "outputs": [
    {
     "name": "stdout",
     "output_type": "stream",
     "text": [
      "j\n",
      "g\n",
      "n\n",
      "n\n",
      "q\n",
      "p\n",
      "y\n",
      "q\n",
      "t\n",
      "n\n",
      "f\n"
     ]
    }
   ],
   "source": [
    "#42. Encode a string using a Caesar cipher.\n",
    "x='hello world'\n",
    "y=x.lower()\n",
    "z=' '\n",
    "n=2\n",
    "for i in y:\n",
    "    z= chr((ord(i) + n-97) % 26 + 97)\n",
    "    print(z)\n",
    "        \n",
    "   \n",
    "    "
   ]
  },
  {
   "cell_type": "code",
   "execution_count": null,
   "id": "f319d3ed-e115-4606-8086-a385bb51f209",
   "metadata": {},
   "outputs": [],
   "source": [
    "#43. Decode a Caesar cipher encoded string."
   ]
  },
  {
   "cell_type": "code",
   "execution_count": 43,
   "id": "1e13d872-83cd-42e8-b9c7-868b5deaadb5",
   "metadata": {},
   "outputs": [],
   "source": [
    "#44.Find the string of most frequent word in a string.\n",
    "x='.Find the string of most frequent word in a string.'\n"
   ]
  },
  {
   "cell_type": "code",
   "execution_count": 18,
   "id": "2e63d0aa-50ef-4793-9165-20ea77b9594d",
   "metadata": {},
   "outputs": [
    {
     "data": {
      "text/plain": [
       "{'45', 'Find', 'a', 'all', 'in', 'string.', 'unique', 'words'}"
      ]
     },
     "execution_count": 18,
     "metadata": {},
     "output_type": "execute_result"
    }
   ],
   "source": [
    "#45. Find all unique words in a string.\n",
    "x='45 Find all unique words in a string.'\n",
    "unique_words=x.split()\n",
    "set(unique_words)\n"
   ]
  },
  {
   "cell_type": "code",
   "execution_count": null,
   "id": "9a6fdef3-470d-4a89-ac14-406159d1d889",
   "metadata": {},
   "outputs": [],
   "source": [
    "#46. Count the number of syllables in a string\n"
   ]
  },
  {
   "cell_type": "code",
   "execution_count": 21,
   "id": "99f99c43-1215-428a-bd3d-f2b79cd71b32",
   "metadata": {},
   "outputs": [
    {
     "name": "stdout",
     "output_type": "stream",
     "text": [
      "strind doesn't contain special character\n",
      "strind doesn't contain special character\n",
      "strind doesn't contain special character\n",
      "strind doesn't contain special character\n",
      "strind doesn't contain special character\n",
      "strind doesn't contain special character\n",
      "strind doesn't contain special character\n",
      "strind doesn't contain special character\n",
      "strind doesn't contain special character\n",
      "strind doesn't contain special character\n",
      "strind doesn't contain special character\n",
      "strind doesn't contain special character\n",
      "strind doesn't contain special character\n",
      "strind doesn't contain special character\n",
      "strind doesn't contain special character\n",
      "strind doesn't contain special character\n",
      "strind doesn't contain special character\n",
      "strind doesn't contain special character\n",
      "strind doesn't contain special character\n",
      "strind doesn't contain special character\n",
      "strind doesn't contain special character\n",
      "strind doesn't contain special character\n",
      "strind doesn't contain special character\n",
      "strind doesn't contain special character\n",
      "strind doesn't contain special character\n",
      "strind doesn't contain special character\n",
      "strind doesn't contain special character\n",
      "strind doesn't contain special character\n",
      "strind doesn't contain special character\n",
      "strind doesn't contain special character\n",
      "strind doesn't contain special character\n",
      "strind doesn't contain special character\n",
      "strind doesn't contain special character\n",
      "strind doesn't contain special character\n",
      "strind doesn't contain special character\n",
      "strind doesn't contain special character\n",
      "strind doesn't contain special character\n",
      "strind doesn't contain special character\n",
      "strind doesn't contain special character\n",
      "strind doesn't contain special character\n",
      "strind doesn't contain special character\n",
      "strind doesn't contain special character\n",
      "strind doesn't contain special character\n",
      "strind doesn't contain special character\n",
      "strind doesn't contain special character\n",
      "strind doesn't contain special character\n",
      "strind doesn't contain special character\n",
      "strind doesn't contain special character\n",
      "strind doesn't contain special character\n",
      "strind doesn't contain special character\n",
      "None\n"
     ]
    }
   ],
   "source": [
    "#47. Check if a string contains any special characters.\n",
    "x='Check if a string contains any special characters.'\n",
    "special_char='''!@#$%^&*(){}[]<>?/`~'''\n",
    "for i in x:\n",
    "    if i in special_char:\n",
    "        z=print('string contains special characters')\n",
    "    else:\n",
    "        z=print(\"strind doesn't contain special character\" )\n",
    "        \n",
    "        \n",
    "print(z)"
   ]
  },
  {
   "cell_type": "code",
   "execution_count": 26,
   "id": "5ef433c7-cb12-44b0-a9bf-cd86bfb91ca2",
   "metadata": {},
   "outputs": [
    {
     "data": {
      "text/plain": [
       "'Remove the th word from a string.'"
      ]
     },
     "execution_count": 26,
     "metadata": {},
     "output_type": "execute_result"
    }
   ],
   "source": [
    "#48. Remove the nth word from a string.\n",
    "x='Remove the nth word from a string.'\n",
    "y=x.find('nth')\n",
    "z=x[:y]+x[y+1:]\n",
    "z"
   ]
  },
  {
   "cell_type": "code",
   "execution_count": 13,
   "id": "e7844585-70ad-4cfc-b296-20c7eafe12ca",
   "metadata": {},
   "outputs": [
    {
     "data": {
      "text/plain": [
       "' Insert ( word at the nth position in)a a string'"
      ]
     },
     "execution_count": 13,
     "metadata": {},
     "output_type": "execute_result"
    }
   ],
   "source": [
    "#49. Insert a word at the nth position in a string.\n",
    "x=' Insert a a string'\n",
    "y=x.index('a')\n",
    "z=x[:y]+'( word at the nth position in)'+x[y:]\n",
    "z"
   ]
  },
  {
   "cell_type": "code",
   "execution_count": 25,
   "id": "bd66d933-4bb0-4352-9aa6-dc422d2d79ae",
   "metadata": {},
   "outputs": [
    {
     "data": {
      "text/plain": [
       "['Convert', ' a ', 'CSV', ' string t', 'o a ', 'list', ' of', ' lists.']"
      ]
     },
     "execution_count": 25,
     "metadata": {},
     "output_type": "execute_result"
    }
   ],
   "source": [
    "#50Convert a CSV string to a list of lists.\n",
    "x='Convert, a ,CSV, string t,o a ,list, of, lists.'\n",
    "y=x.split(',')\n",
    "y"
   ]
  },
  {
   "cell_type": "code",
   "execution_count": null,
   "id": "4df3096d-fdf2-4e31-b801-997e74e00549",
   "metadata": {},
   "outputs": [],
   "source": [
    "List Based Practice Problem :\n"
   ]
  },
  {
   "cell_type": "code",
   "execution_count": 1,
   "id": "62b5c42c-17f3-47f3-8017-902e5d4697c1",
   "metadata": {},
   "outputs": [],
   "source": [
    "#1. Create a list with integers from 1 to 10\n",
    "x=[1,2,3,4,5,6,7,8,9,10]"
   ]
  },
  {
   "cell_type": "code",
   "execution_count": 2,
   "id": "5110167f-222e-405b-bf9e-ba78dc44299f",
   "metadata": {},
   "outputs": [
    {
     "data": {
      "text/plain": [
       "list"
      ]
     },
     "execution_count": 2,
     "metadata": {},
     "output_type": "execute_result"
    }
   ],
   "source": [
    "type(x)"
   ]
  },
  {
   "cell_type": "code",
   "execution_count": 20,
   "id": "bcf5036d-1f48-4ace-900a-4135922aa3d1",
   "metadata": {},
   "outputs": [
    {
     "name": "stdout",
     "output_type": "stream",
     "text": [
      "length of integers is 10\n"
     ]
    }
   ],
   "source": [
    "#2. Find the length of a list without using the `len()` function.\n",
    "x=[1,2,3,4,5,6,7,8,9,10]\n",
    "y=0\n",
    "for element in x:\n",
    "    y+=1\n",
    "print('length of integers is',y)\n",
    "    "
   ]
  },
  {
   "cell_type": "code",
   "execution_count": 12,
   "id": "12bd7392-c07e-428a-9e06-4f8f481e19f1",
   "metadata": {},
   "outputs": [
    {
     "data": {
      "text/plain": [
       "[1, 2, 3, 4, 5, 6, 7, 8, 9, 10]"
      ]
     },
     "execution_count": 12,
     "metadata": {},
     "output_type": "execute_result"
    }
   ],
   "source": [
    "#3.Append an element to the end of a list.\n",
    "x"
   ]
  },
  {
   "cell_type": "code",
   "execution_count": 13,
   "id": "ab863a8e-92d0-4111-94f1-21d1951d9573",
   "metadata": {},
   "outputs": [],
   "source": [
    "x.append('vinay')"
   ]
  },
  {
   "cell_type": "code",
   "execution_count": 14,
   "id": "8fa1b689-502a-428f-9fb3-06bdab6e0464",
   "metadata": {},
   "outputs": [
    {
     "data": {
      "text/plain": [
       "[1, 2, 3, 4, 5, 6, 7, 8, 9, 10, 'vinay']"
      ]
     },
     "execution_count": 14,
     "metadata": {},
     "output_type": "execute_result"
    }
   ],
   "source": [
    "x"
   ]
  },
  {
   "cell_type": "code",
   "execution_count": 15,
   "id": "76f2b36e-8860-4e7b-88f1-b442b05e9d78",
   "metadata": {},
   "outputs": [
    {
     "data": {
      "text/plain": [
       "[1, 2, 3, 4, 5, 6, 7, 8, 9, 10, 'vinay']"
      ]
     },
     "execution_count": 15,
     "metadata": {},
     "output_type": "execute_result"
    }
   ],
   "source": [
    "#4. Insert an element at a specific index in a list\n",
    "x"
   ]
  },
  {
   "cell_type": "code",
   "execution_count": 17,
   "id": "e3c9585b-57ca-4e58-9c4a-dc71e3353ae0",
   "metadata": {},
   "outputs": [],
   "source": [
    "x.insert(3,'vinay')"
   ]
  },
  {
   "cell_type": "code",
   "execution_count": 18,
   "id": "727fec02-b6db-4269-9405-1d3381df7cc2",
   "metadata": {},
   "outputs": [
    {
     "data": {
      "text/plain": [
       "[1, 2, 3, 'vinay', 4, 5, 6, 7, 8, 9, 10, 'vinay']"
      ]
     },
     "execution_count": 18,
     "metadata": {},
     "output_type": "execute_result"
    }
   ],
   "source": [
    "x"
   ]
  },
  {
   "cell_type": "code",
   "execution_count": 19,
   "id": "44d9826c-4465-4a4e-a157-34b8581914bb",
   "metadata": {},
   "outputs": [],
   "source": [
    "#5. Remove an element from a list by its value.\n",
    "x.remove('vinay')"
   ]
  },
  {
   "cell_type": "code",
   "execution_count": 20,
   "id": "cc303393-1390-4037-acb6-54f71dd4e617",
   "metadata": {},
   "outputs": [
    {
     "data": {
      "text/plain": [
       "[1, 2, 3, 4, 5, 6, 7, 8, 9, 10, 'vinay']"
      ]
     },
     "execution_count": 20,
     "metadata": {},
     "output_type": "execute_result"
    }
   ],
   "source": [
    "x"
   ]
  },
  {
   "cell_type": "code",
   "execution_count": 21,
   "id": "db353029-ad6c-44ce-b3a8-6615c7588f16",
   "metadata": {},
   "outputs": [
    {
     "data": {
      "text/plain": [
       "1"
      ]
     },
     "execution_count": 21,
     "metadata": {},
     "output_type": "execute_result"
    }
   ],
   "source": [
    "#6. Remove an element from a list by its index.\n",
    "x.pop(0)"
   ]
  },
  {
   "cell_type": "code",
   "execution_count": null,
   "id": "006a4af3-ce31-4f2a-9d91-01e0b6a772e3",
   "metadata": {},
   "outputs": [
    {
     "data": {
      "text/plain": [
       "62"
      ]
     },
     "execution_count": 23,
     "metadata": {},
     "output_type": "execute_result"
    }
   ],
   "source": [
    "x\n"
   ]
  },
  {
   "cell_type": "code",
   "execution_count": 33,
   "id": "47d1788e-e16a-4aa9-9da1-681235434251",
   "metadata": {},
   "outputs": [
    {
     "name": "stdout",
     "output_type": "stream",
     "text": [
      "True\n"
     ]
    }
   ],
   "source": [
    "#7. Check if an element exists in a list.\n",
    "x=[1,2,3,4,5]\n",
    "if 2 in x:\n",
    "    print(True)\n",
    "else:\n",
    "    print(False)"
   ]
  },
  {
   "cell_type": "code",
   "execution_count": 14,
   "id": "75bff737-756f-4547-9c26-8f576ceb36ee",
   "metadata": {},
   "outputs": [
    {
     "data": {
      "text/plain": [
       "0"
      ]
     },
     "execution_count": 14,
     "metadata": {},
     "output_type": "execute_result"
    }
   ],
   "source": [
    "#8. Find the index of the first occurrence of an element in a list.\n",
    "x=list('find the index of the first occurrence of an element in a list')\n",
    "x.index('f')"
   ]
  },
  {
   "cell_type": "code",
   "execution_count": 8,
   "id": "7b678f1c-c526-4f40-99d9-306edc372db3",
   "metadata": {},
   "outputs": [
    {
     "data": {
      "text/plain": [
       "3"
      ]
     },
     "execution_count": 8,
     "metadata": {},
     "output_type": "execute_result"
    }
   ],
   "source": [
    "#9. Count the occurrences of an element in a list.\n",
    "x=list(' Count the occurrences of an element in a list.')\n",
    "x.count('o')"
   ]
  },
  {
   "cell_type": "code",
   "execution_count": 16,
   "id": "47a9895e-333e-433d-baf0-1119f30dc4b9",
   "metadata": {},
   "outputs": [
    {
     "data": {
      "text/plain": [
       "['.',\n",
       " 't',\n",
       " 's',\n",
       " 'i',\n",
       " 'l',\n",
       " ' ',\n",
       " 'a',\n",
       " ' ',\n",
       " 'n',\n",
       " 'i',\n",
       " ' ',\n",
       " 's',\n",
       " 't',\n",
       " 'n',\n",
       " 'e',\n",
       " 'm',\n",
       " 'e',\n",
       " 'l',\n",
       " 'e',\n",
       " ' ',\n",
       " 'f',\n",
       " 'o',\n",
       " ' ',\n",
       " 'r',\n",
       " 'e',\n",
       " 'd',\n",
       " 'r',\n",
       " 'o',\n",
       " ' ',\n",
       " 'e',\n",
       " 'h',\n",
       " 't',\n",
       " ' ',\n",
       " 'e',\n",
       " 's',\n",
       " 'r',\n",
       " 'e',\n",
       " 'v',\n",
       " 'e',\n",
       " 'R',\n",
       " ' ',\n",
       " '.',\n",
       " '0',\n",
       " '1']"
      ]
     },
     "execution_count": 16,
     "metadata": {},
     "output_type": "execute_result"
    }
   ],
   "source": [
    "#10. Reverse the order of elements in a list.\n",
    "x=list('10. Reverse the order of elements in a list.')\n",
    "x[::-1]"
   ]
  },
  {
   "cell_type": "code",
   "execution_count": 23,
   "id": "60bba33f-f49d-40ca-b556-dff4adb8097f",
   "metadata": {},
   "outputs": [
    {
     "data": {
      "text/plain": [
       "[' ',\n",
       " ' ',\n",
       " ' ',\n",
       " ' ',\n",
       " ' ',\n",
       " 'S',\n",
       " 'a',\n",
       " 'a',\n",
       " 'c',\n",
       " 'd',\n",
       " 'd',\n",
       " 'e',\n",
       " 'e',\n",
       " 'g',\n",
       " 'i',\n",
       " 'i',\n",
       " 'i',\n",
       " 'l',\n",
       " 'n',\n",
       " 'n',\n",
       " 'n',\n",
       " 'o',\n",
       " 'o',\n",
       " 'r',\n",
       " 'r',\n",
       " 'r',\n",
       " 's',\n",
       " 's',\n",
       " 't',\n",
       " 't']"
      ]
     },
     "execution_count": 23,
     "metadata": {},
     "output_type": "execute_result"
    }
   ],
   "source": [
    "#11. Sort a list in ascending order.\n",
    "x=list( 'Sort a list in ascending order')\n",
    "x.sort()\n",
    "x"
   ]
  },
  {
   "cell_type": "code",
   "execution_count": 25,
   "id": "5bedb35b-18df-48a3-9ad9-ace3b767d055",
   "metadata": {},
   "outputs": [
    {
     "data": {
      "text/plain": [
       "['t',\n",
       " 't',\n",
       " 's',\n",
       " 's',\n",
       " 'r',\n",
       " 'r',\n",
       " 'r',\n",
       " 'o',\n",
       " 'o',\n",
       " 'n',\n",
       " 'n',\n",
       " 'n',\n",
       " 'l',\n",
       " 'i',\n",
       " 'i',\n",
       " 'i',\n",
       " 'g',\n",
       " 'e',\n",
       " 'e',\n",
       " 'e',\n",
       " 'd',\n",
       " 'd',\n",
       " 'd',\n",
       " 'c',\n",
       " 'a',\n",
       " 'S',\n",
       " '.',\n",
       " ' ',\n",
       " ' ',\n",
       " ' ',\n",
       " ' ',\n",
       " ' ',\n",
       " ' ']"
      ]
     },
     "execution_count": 25,
     "metadata": {},
     "output_type": "execute_result"
    }
   ],
   "source": [
    "#12. Sort a list in descending order.\n",
    "x=list(' Sort a list in descending order.')\n",
    "x.sort(reverse=True)\n",
    "x"
   ]
  },
  {
   "cell_type": "code",
   "execution_count": 41,
   "id": "6da871b1-f68d-4e16-8cea-53a94b6524d2",
   "metadata": {},
   "outputs": [
    {
     "name": "stdout",
     "output_type": "stream",
     "text": [
      "[2, 4, 6, 8, 10, 12, 14, 16, 18, 20]\n"
     ]
    }
   ],
   "source": [
    "#13. Create a list of even numbers from 1 to 20.\n",
    "x=[]\n",
    "for i in range(1,21,):\n",
    "    if i%2==0:\n",
    "        x.append(i)\n",
    "print(x)\n",
    "\n"
   ]
  },
  {
   "cell_type": "code",
   "execution_count": 43,
   "id": "e5e8e586-65fa-4bf4-bc96-482ac12c455f",
   "metadata": {},
   "outputs": [
    {
     "name": "stdout",
     "output_type": "stream",
     "text": [
      "[3, 6, 9, 12, 15, 18]\n"
     ]
    }
   ],
   "source": [
    "#14Create a list of odd numbers from 1 to 20.\n",
    "x=[]\n",
    "for i in range(1,21,):\n",
    "    if i%3==0:\n",
    "        x.append(i)\n",
    "print(x)\n",
    "\n"
   ]
  },
  {
   "cell_type": "code",
   "execution_count": 19,
   "id": "bbd6aea1-cd11-46df-a800-8ef883f8c1c6",
   "metadata": {},
   "outputs": [
    {
     "name": "stdout",
     "output_type": "stream",
     "text": [
      "sum is 21\n"
     ]
    }
   ],
   "source": [
    "#15.Find the sum of all elements in a list.\n",
    "x=[1,2,3,4,5,6]\n",
    "y=0\n",
    "for element in x:\n",
    "    y= y+element\n",
    "print('sum is', y)"
   ]
  },
  {
   "cell_type": "code",
   "execution_count": 36,
   "id": "05db9859-f2b0-4993-94a6-f2f76666f8a8",
   "metadata": {},
   "outputs": [
    {
     "name": "stdout",
     "output_type": "stream",
     "text": [
      "maximum valve is 6\n"
     ]
    }
   ],
   "source": [
    "#16. Find the maximum value in a list.\n",
    "x=[1,2,3,4,5,6]\n",
    "y=0\n",
    "for every_element in x:\n",
    "    if y<every_element:\n",
    "        y=every_element\n",
    "print('maximum valve is',y)"
   ]
  },
  {
   "cell_type": "code",
   "execution_count": 41,
   "id": "0c7a8fc9-27da-41f3-a4e5-4293f6766a06",
   "metadata": {},
   "outputs": [
    {
     "name": "stdout",
     "output_type": "stream",
     "text": [
      "minimum valve is 0\n"
     ]
    }
   ],
   "source": [
    "#17. Find the minimum value in a list.\n",
    "x=[1,2,3,4,0,5,6,]\n",
    "y=1\n",
    "for every_element in x:\n",
    "    if y>every_element:\n",
    "        y=every_element\n",
    "print('minimum valve is',y)\n",
    "        "
   ]
  },
  {
   "cell_type": "code",
   "execution_count": 26,
   "id": "6b13f008-48de-4973-a083-0e3e09177363",
   "metadata": {},
   "outputs": [
    {
     "name": "stdout",
     "output_type": "stream",
     "text": [
      "[0, 1, 4, 9, 16, 25, 36, 49, 64, 81, 100]\n"
     ]
    }
   ],
   "source": [
    "#18.Create a list of squares of numbers from 1 to 10.\n",
    "x=10\n",
    "y=[]\n",
    "for every_num in range(11):\n",
    "    z=every_num*every_num\n",
    "    y.append(z)\n",
    "print(y)"
   ]
  },
  {
   "cell_type": "code",
   "execution_count": 28,
   "id": "037acd7b-8e49-4796-89f0-1047c76a75c2",
   "metadata": {},
   "outputs": [
    {
     "name": "stdout",
     "output_type": "stream",
     "text": [
      "[21, 30, 10, 12, 26, 12, 23, 3, 29, 17]\n"
     ]
    }
   ],
   "source": [
    "#19. Create a list of random numbers.\n",
    "import random\n",
    "randomlist = []\n",
    "for i in range(0,10):\n",
    "    n = random.randint(1,30)\n",
    "    randomlist.append(n)\n",
    "print(randomlist)"
   ]
  },
  {
   "cell_type": "code",
   "execution_count": 15,
   "id": "8c9ee3b7-3cca-4ef4-a788-5c0b08a3f9fb",
   "metadata": {},
   "outputs": [
    {
     "data": {
      "text/plain": [
       "[1, 2, 3, 4, 5, 66, 777, 77]"
      ]
     },
     "execution_count": 15,
     "metadata": {},
     "output_type": "execute_result"
    }
   ],
   "source": [
    "#20. Remove duplicates from a list.\n",
    "x=[1,2,2,3,3,4,4,5,5,5,66,77,777]\n",
    "y=set(x)\n",
    "z=list(y)\n",
    "z"
   ]
  },
  {
   "cell_type": "code",
   "execution_count": 45,
   "id": "eca57a66-8f74-4f63-b534-230e27a72bd6",
   "metadata": {},
   "outputs": [
    {
     "name": "stdout",
     "output_type": "stream",
     "text": [
      "[2, 4, 5]\n"
     ]
    }
   ],
   "source": [
    "#21. Find the common elements between two lists.\n",
    "x=[1,2,3,4,5]\n",
    "y=[2,4,5,6,7]\n",
    "z=[]\n",
    "for i in x:\n",
    "    if i in y:\n",
    "        z.append(i)\n",
    "print(z)"
   ]
  },
  {
   "cell_type": "code",
   "execution_count": 47,
   "id": "357acddd-2db5-49e0-bd7a-1bfbbe55d317",
   "metadata": {},
   "outputs": [
    {
     "name": "stdout",
     "output_type": "stream",
     "text": [
      "[1, 3]\n"
     ]
    }
   ],
   "source": [
    "#22.Find the difference between two lists.\n",
    "x=[1,2,3,4,5]\n",
    "y=[2,4,5,6,7]\n",
    "z=[]\n",
    "for i in x:\n",
    "    if i not in y:\n",
    "        z.append(i)\n",
    "print(z)"
   ]
  },
  {
   "cell_type": "code",
   "execution_count": 34,
   "id": "62f63dd2-2ffa-4add-bebe-47822c1a837e",
   "metadata": {},
   "outputs": [],
   "source": [
    "#23. Merge two lists.\n",
    "x=[1,2,3,4,5,6]\n",
    "y=[5,5,6,6,77,8,88]\n",
    "z=x+y"
   ]
  },
  {
   "cell_type": "code",
   "execution_count": 35,
   "id": "cd094c59-97cf-430b-8fe8-97ebde2692d5",
   "metadata": {},
   "outputs": [
    {
     "data": {
      "text/plain": [
       "[1, 2, 3, 4, 5, 6, 5, 5, 6, 6, 77, 8, 88]"
      ]
     },
     "execution_count": 35,
     "metadata": {},
     "output_type": "execute_result"
    }
   ],
   "source": [
    "z"
   ]
  },
  {
   "cell_type": "code",
   "execution_count": null,
   "id": "9769051b-b211-45aa-862e-2538e0c161dc",
   "metadata": {},
   "outputs": [],
   "source": []
  },
  {
   "cell_type": "code",
   "execution_count": 13,
   "id": "db9c8110-a156-47f6-8192-d1541f1f379c",
   "metadata": {},
   "outputs": [
    {
     "name": "stdout",
     "output_type": "stream",
     "text": [
      "[2, 4, 6, 8, 10, 12]\n"
     ]
    }
   ],
   "source": [
    "#24. Multiply all elements in a list by 2.\n",
    "x=[1,2,3,4,5,6]\n",
    "z=[]\n",
    "for every_item in x:\n",
    "    y=every_item*2\n",
    "    z.append(y)\n",
    "print(z)"
   ]
  },
  {
   "cell_type": "code",
   "execution_count": null,
   "id": "b9717fd6-bafe-481d-befe-33873cf88729",
   "metadata": {},
   "outputs": [],
   "source": []
  },
  {
   "cell_type": "code",
   "execution_count": 5,
   "id": "f5b5564a-18b8-4f02-b23e-1476829bd57a",
   "metadata": {},
   "outputs": [
    {
     "name": "stdout",
     "output_type": "stream",
     "text": [
      "[2, 4, 6, 8, 10, 12]\n"
     ]
    }
   ],
   "source": [
    "#25.Filter out all even numbers from a list.\n",
    "x=[1,2,3,4,5,6,7,8,9,10,11,12]\n",
    "y=[]\n",
    "for every_item in x:\n",
    "    if every_item%2==0:\n",
    "        y.append(every_item)\n",
    "        \n",
    "print(y)\n"
   ]
  },
  {
   "cell_type": "code",
   "execution_count": 50,
   "id": "2a3c43f9-4165-4df7-b93f-d9b21a5368b0",
   "metadata": {},
   "outputs": [
    {
     "name": "stdout",
     "output_type": "stream",
     "text": [
      "1\n",
      "2\n",
      "3\n"
     ]
    }
   ],
   "source": [
    "#26. Convert a list of strings to a list of integers.\n",
    "x=['1','2','3']\n",
    "for i in x:\n",
    "    if i.isalnum():\n",
    "        a=int(i)\n",
    "        \n",
    "        print((a))"
   ]
  },
  {
   "cell_type": "code",
   "execution_count": null,
   "id": "0219d367-f658-4b82-8c3e-730c3d13c7e9",
   "metadata": {},
   "outputs": [],
   "source": []
  },
  {
   "cell_type": "code",
   "execution_count": 49,
   "id": "4ace400d-62c6-4533-996f-dcd6c098a6c4",
   "metadata": {},
   "outputs": [
    {
     "data": {
      "text/plain": [
       "'[1, 2, 3, 4, 5]'"
      ]
     },
     "execution_count": 49,
     "metadata": {},
     "output_type": "execute_result"
    }
   ],
   "source": [
    "#27. Convert a list of integers to a list of strings.\n",
    "x=[1,2,3,4,5]\n",
    "y=str(x)\n",
    "y"
   ]
  },
  {
   "cell_type": "code",
   "execution_count": 5,
   "id": "f4a9c7b7-8374-419e-b186-e7bcaf064beb",
   "metadata": {},
   "outputs": [
    {
     "name": "stdout",
     "output_type": "stream",
     "text": [
      "[1, 2, 3, 4, 5, 6, 7, 8]\n"
     ]
    }
   ],
   "source": [
    "#28. Flatten a nested list.\n",
    "x=[[1,2],[3,4,5],[6,7,8]]\n",
    "y=[]\n",
    "for sublist in x:\n",
    "    for number in sublist:\n",
    "        y.append(number)\n",
    "print(y)"
   ]
  },
  {
   "cell_type": "code",
   "execution_count": 53,
   "id": "2b787945-02e6-4643-8661-faaf0884c1c6",
   "metadata": {},
   "outputs": [
    {
     "name": "stdin",
     "output_type": "stream",
     "text": [
      "enter the number for fibonacci series 4\n"
     ]
    },
    {
     "name": "stdout",
     "output_type": "stream",
     "text": [
      "1\n",
      "2\n",
      "3\n",
      "5\n"
     ]
    }
   ],
   "source": [
    "#29.Create a list of the first 10 Fibonacci numbers.\n",
    "x=0\n",
    "y=1\n",
    "c=0\n",
    "z=int(input('enter the number for fibonacci series'))\n",
    "for i in  range(z):\n",
    "    if i<=c:\n",
    "        a=x+y\n",
    "        x=y\n",
    "        y=a\n",
    "        c+=1\n",
    "        print(a)"
   ]
  },
  {
   "cell_type": "code",
   "execution_count": 28,
   "id": "ec123c6c-4d62-461b-ae2e-90b7388ff2aa",
   "metadata": {},
   "outputs": [
    {
     "ename": "AttributeError",
     "evalue": "'list' object has no attribute 'sorted'",
     "output_type": "error",
     "traceback": [
      "\u001b[0;31m---------------------------------------------------------------------------\u001b[0m",
      "\u001b[0;31mAttributeError\u001b[0m                            Traceback (most recent call last)",
      "Cell \u001b[0;32mIn[28], line 3\u001b[0m\n\u001b[1;32m      1\u001b[0m \u001b[38;5;66;03m#30. Check if a list is sorted.\u001b[39;00m\n\u001b[1;32m      2\u001b[0m x\u001b[38;5;241m=\u001b[39m[\u001b[38;5;241m2\u001b[39m,\u001b[38;5;241m4\u001b[39m,\u001b[38;5;241m6\u001b[39m,\u001b[38;5;241m1\u001b[39m,\u001b[38;5;241m3\u001b[39m,\u001b[38;5;241m5\u001b[39m]\n\u001b[0;32m----> 3\u001b[0m y\u001b[38;5;241m=\u001b[39m\u001b[43mx\u001b[49m\u001b[38;5;241;43m.\u001b[39;49m\u001b[43msorted\u001b[49m(x)\n\u001b[1;32m      4\u001b[0m \u001b[38;5;28;01mif\u001b[39;00m x\u001b[38;5;241m==\u001b[39my:\n\u001b[1;32m      5\u001b[0m     \u001b[38;5;28mprint\u001b[39m(\u001b[38;5;124m'\u001b[39m\u001b[38;5;124msorted\u001b[39m\u001b[38;5;124m'\u001b[39m)\n",
      "\u001b[0;31mAttributeError\u001b[0m: 'list' object has no attribute 'sorted'"
     ]
    }
   ],
   "source": [
    "#30. Check if a list is sorted.\n",
    "x=[2,4,6,1,3,5]\n",
    "y=x.sorted(x)\n",
    "if x==y:\n",
    "    print('sorted')\n",
    "else:\n",
    "    print('not sorted')"
   ]
  },
  {
   "cell_type": "code",
   "execution_count": 3,
   "id": "bd9463e3-b4d7-477a-b886-3fdc3f50027f",
   "metadata": {},
   "outputs": [
    {
     "data": {
      "text/plain": [
       "[4, 5, 1, 2, 3]"
      ]
     },
     "execution_count": 3,
     "metadata": {},
     "output_type": "execute_result"
    }
   ],
   "source": [
    "#31. Rotate a list to the left by `n` positions.\n",
    "x=[1,2,3,4,5]\n",
    "y=x[-2:]+x[:-2]\n",
    "y"
   ]
  },
  {
   "cell_type": "code",
   "execution_count": 4,
   "id": "8d51eaca-2457-4ad4-9d80-7596c4313b91",
   "metadata": {},
   "outputs": [
    {
     "data": {
      "text/plain": [
       "[2, 3, 4, 5, 1]"
      ]
     },
     "execution_count": 4,
     "metadata": {},
     "output_type": "execute_result"
    }
   ],
   "source": [
    "#32. Rotate a list to the right by `n` positions.\n",
    "x=[1,2,3,4,5]\n",
    "y=x[+1:]+x[:+1]\n",
    "y\n"
   ]
  },
  {
   "cell_type": "code",
   "execution_count": 8,
   "id": "9b0785bc-f5c3-49b2-8b9b-6dd93fda09ba",
   "metadata": {},
   "outputs": [
    {
     "name": "stdout",
     "output_type": "stream",
     "text": [
      "[1, 5, 7, 11, 13, 17, 19, 23, 25, 29, 31, 35, 37, 41, 43, 47, 49]\n"
     ]
    }
   ],
   "source": [
    "#33. Create a list of prime numbers up to 50.\n",
    "x=[]\n",
    "for i in range(1,51,1):\n",
    "    if i%2!=0 and i%3!=0:\n",
    "        x.append(i)\n",
    "print(x)"
   ]
  },
  {
   "cell_type": "code",
   "execution_count": 7,
   "id": "7cb17f5e-3240-496c-a6df-9a962d716f71",
   "metadata": {},
   "outputs": [
    {
     "name": "stdin",
     "output_type": "stream",
     "text": [
      "enter a number to split into n size 3\n"
     ]
    },
    {
     "name": "stdout",
     "output_type": "stream",
     "text": [
      "[1, 2, 3]\n",
      "[4, 5, 6]\n",
      "[7]\n"
     ]
    }
   ],
   "source": [
    "#34. Split a list into chunks of size `n`.\n",
    "x=[1,2,3,4,5,6,7]\n",
    "y=int(input('enter a number to split into n size'))\n",
    "for i in range(0,len(x),y):\n",
    "    z=x[i:i+y]\n",
    "    print(list(z))\n",
    "    \n",
    "    "
   ]
  },
  {
   "cell_type": "code",
   "execution_count": 6,
   "id": "4b204a68-37d9-4ce5-a12b-6a9f07a867cf",
   "metadata": {},
   "outputs": [
    {
     "data": {
      "text/plain": [
       "[2, 3]"
      ]
     },
     "execution_count": 6,
     "metadata": {},
     "output_type": "execute_result"
    }
   ],
   "source": []
  },
  {
   "cell_type": "code",
   "execution_count": 16,
   "id": "4ace7a38-8b6f-4874-81a7-aea77b226737",
   "metadata": {},
   "outputs": [
    {
     "data": {
      "text/plain": [
       "67"
      ]
     },
     "execution_count": 16,
     "metadata": {},
     "output_type": "execute_result"
    }
   ],
   "source": [
    "#35.Find the second largest number in a list.\n",
    "x=[1,2,5,23,32,67,90,11]\n",
    "y=sorted(x)\n",
    "y[-2]\n"
   ]
  },
  {
   "cell_type": "code",
   "execution_count": 20,
   "id": "88c25786-1777-4693-81bb-6f079f87d717",
   "metadata": {},
   "outputs": [
    {
     "name": "stdout",
     "output_type": "stream",
     "text": [
      "[1, 16, 9, 4, 25]\n"
     ]
    }
   ],
   "source": [
    "#36. Replace every element in a list with its square.\n",
    "x=[1,2,3,4,5]\n",
    "for i in x:\n",
    "    x[x.index(i)]=i*i\n",
    "print(x)\n"
   ]
  },
  {
   "cell_type": "code",
   "execution_count": 37,
   "id": "0a0779ef-8a0d-478e-b824-6ac55141daf0",
   "metadata": {},
   "outputs": [
    {
     "name": "stdout",
     "output_type": "stream",
     "text": [
      "{1: 0, 2: 1, 3: 2, 4: 3, 5: 4}\n"
     ]
    }
   ],
   "source": [
    "#37. Convert a list to a dictionary where list elements become keys and their indices become values.\n",
    "x=[1,2,3,4,5]\n",
    "dic={}\n",
    "for i,j in enumerate(x):\n",
    "    dic[j]=i\n",
    "print(dic)"
   ]
  },
  {
   "cell_type": "code",
   "execution_count": 7,
   "id": "ee5e956f-84b2-4ff2-95f6-ece4ebf4271b",
   "metadata": {},
   "outputs": [
    {
     "name": "stdout",
     "output_type": "stream",
     "text": [
      "[11, 33, 66, 55, 77, 44, 22]\n"
     ]
    }
   ],
   "source": [
    "#38. Shuffle the elements of a list randomly.\n",
    "import random\n",
    "new_list = [11,22,33,44,55,66,77]\n",
    "for i in new_list:\n",
    "    n = random.shuffle(new_list)\n",
    "print(new_list)"
   ]
  },
  {
   "cell_type": "code",
   "execution_count": 1,
   "id": "c8b18531-5267-4c4a-be23-12a7a2fb8b84",
   "metadata": {},
   "outputs": [
    {
     "name": "stdout",
     "output_type": "stream",
     "text": [
      "3628800\n"
     ]
    }
   ],
   "source": [
    "#39. Create a list of the first 10 factorial numbers.\n",
    "factorial=1\n",
    "for i in range(1,11):\n",
    "    factorial=factorial*i\n",
    "print(factorial)\n"
   ]
  },
  {
   "cell_type": "code",
   "execution_count": 2,
   "id": "231e347e-26d8-4e12-a721-d98abcbb4d67",
   "metadata": {},
   "outputs": [
    {
     "name": "stdout",
     "output_type": "stream",
     "text": [
      "2\n",
      "3\n",
      "4\n",
      "5\n"
     ]
    }
   ],
   "source": [
    "#40. Check if two lists have at least one element in common.\n",
    "x=[1,2,3,4,5]\n",
    "y=[2,3,4,5,6,7]\n",
    "for i in x:\n",
    "    if i in y:\n",
    "        print(i)\n"
   ]
  },
  {
   "cell_type": "code",
   "execution_count": null,
   "id": "d782ec6b-dca3-4b82-b2bb-a8fe0d440059",
   "metadata": {},
   "outputs": [],
   "source": [
    "#41.Remove all elements from a list.\n",
    "x=[1,2,3,4,'viajkdjf']\n",
    "y=x.clear()\n",
    "print(y)"
   ]
  },
  {
   "cell_type": "code",
   "execution_count": 5,
   "id": "610493bf-5d23-4a18-b6d4-507fde38ac4c",
   "metadata": {},
   "outputs": [
    {
     "name": "stdout",
     "output_type": "stream",
     "text": [
      "[0, 0, 33, 44, 0]\n"
     ]
    }
   ],
   "source": [
    "#42.Replace negative numbers in a list with 0.\n",
    "x=[-11,-22,33,44,-55]\n",
    "\n",
    "for i in x:\n",
    "    if i <0:\n",
    "        x[x.index(i)]=0\n",
    "        \n",
    "print(x)\n"
   ]
  },
  {
   "cell_type": "code",
   "execution_count": 3,
   "id": "cb4b70cc-1ccf-44e3-8332-827ea0a2dfb9",
   "metadata": {},
   "outputs": [
    {
     "data": {
      "text/plain": [
       "['C',\n",
       " 'o',\n",
       " 'n',\n",
       " 'v',\n",
       " 'e',\n",
       " 'r',\n",
       " 't',\n",
       " ' ',\n",
       " 'a',\n",
       " ' ',\n",
       " 's',\n",
       " 't',\n",
       " 'r',\n",
       " 'i',\n",
       " 'n',\n",
       " 'g',\n",
       " ' ',\n",
       " 'i',\n",
       " 'n',\n",
       " 't',\n",
       " 'o',\n",
       " ' ',\n",
       " 'a',\n",
       " ' ',\n",
       " 'l',\n",
       " 'i',\n",
       " 's',\n",
       " 't',\n",
       " ' ',\n",
       " 'o',\n",
       " 'f',\n",
       " ' ',\n",
       " 'w',\n",
       " 'o',\n",
       " 'r',\n",
       " 'd',\n",
       " 's']"
      ]
     },
     "execution_count": 3,
     "metadata": {},
     "output_type": "execute_result"
    }
   ],
   "source": [
    "#43. Convert a string into a list of words.\n",
    "x= 'Convert a string into a list of words'\n",
    "list(x)"
   ]
  },
  {
   "cell_type": "code",
   "execution_count": 34,
   "id": "787a24c9-33e7-4b33-89be-f74394297817",
   "metadata": {},
   "outputs": [
    {
     "name": "stdout",
     "output_type": "stream",
     "text": [
      "abcd\n"
     ]
    }
   ],
   "source": [
    "#44. Convert a list of words into a string.\n",
    "\n",
    "x=['a','b','c','d']\n",
    "y=''\n",
    "for i in x:\n",
    "    y=y+i\n",
    "print(y)\n",
    "    \n",
    "    \n",
    "        "
   ]
  },
  {
   "cell_type": "code",
   "execution_count": 11,
   "id": "db3ad4ee-8426-4a64-8360-b1bc8a3fc3a5",
   "metadata": {},
   "outputs": [
    {
     "name": "stdin",
     "output_type": "stream",
     "text": [
      "enter a number: 5\n"
     ]
    },
    {
     "name": "stdout",
     "output_type": "stream",
     "text": [
      "[1, 2, 4, 8, 16]\n"
     ]
    }
   ],
   "source": [
    "#45.Create a list of the first `n` powers of 2.\n",
    "x=[]\n",
    "a=int(input('enter a number:'))\n",
    "for i in range(0,a):\n",
    "    y=2**i\n",
    "    x.append(y)\n",
    "print(x)\n",
    "            "
   ]
  },
  {
   "cell_type": "code",
   "execution_count": 25,
   "id": "71f45f58-d484-46b6-8153-54a3b2091962",
   "metadata": {},
   "outputs": [
    {
     "name": "stdout",
     "output_type": "stream",
     "text": [
      "x= ['Find', 'the', 'longest', 'string', 'in', 'a', 'list', 'of', 'strings']\n"
     ]
    },
    {
     "data": {
      "text/plain": [
       "'longest'"
      ]
     },
     "execution_count": 25,
     "metadata": {},
     "output_type": "execute_result"
    }
   ],
   "source": [
    "#46. Find the longest string in a list of strings.\n",
    "x='Find the longest string in a list of strings'\n",
    "y=x.split()\n",
    "print('x=',y)\n",
    "max(y,key=len)"
   ]
  },
  {
   "cell_type": "code",
   "execution_count": 24,
   "id": "e8d61780-16bb-4fb5-979e-8f9437b715fa",
   "metadata": {},
   "outputs": [
    {
     "name": "stdout",
     "output_type": "stream",
     "text": [
      "x= ['47.', 'Find', 'the', 'shortest', 'string', 'in', 'a', 'list', 'of', 'strings.']\n"
     ]
    },
    {
     "data": {
      "text/plain": [
       "'a'"
      ]
     },
     "execution_count": 24,
     "metadata": {},
     "output_type": "execute_result"
    }
   ],
   "source": [
    "#47. Find the shortest string in a list of strings.\n",
    "x='47. Find the shortest string in a list of strings.'\n",
    "y=x.split()\n",
    "print('x=',y)\n",
    "min(y,key=len)"
   ]
  },
  {
   "cell_type": "code",
   "execution_count": 29,
   "id": "dfabcc8b-cb3d-4fc2-b3c1-21592af20776",
   "metadata": {},
   "outputs": [
    {
     "name": "stdin",
     "output_type": "stream",
     "text": [
      "enter a number 4\n"
     ]
    },
    {
     "name": "stdout",
     "output_type": "stream",
     "text": [
      "0.0\n",
      "1.0\n",
      "4.0\n",
      "10.0\n"
     ]
    }
   ],
   "source": [
    "#48. Create a list of the first `n` triangular numbers.\n",
    "a=int(input('enter a number'))\n",
    "c=0\n",
    "for i in range(a):\n",
    "    c=c+(i*(i+1)/2)\n",
    "    print(c)\n",
    "    "
   ]
  },
  {
   "cell_type": "code",
   "execution_count": 58,
   "id": "713fe872-2ceb-4ad7-83f6-021533fa4dee",
   "metadata": {},
   "outputs": [
    {
     "name": "stdout",
     "output_type": "stream",
     "text": [
      "1 is in another list\n",
      "2 is in another list\n",
      "3 is in another list\n",
      "4 is in another list\n",
      "5 is in another list\n"
     ]
    }
   ],
   "source": [
    "#49. Check if a list contains another list as a subsequence.\n",
    "x=[1,2,3,4,5]\n",
    "y=[1,2,3,4,5,6,7,8,9]\n",
    "for i in y:\n",
    "    if i in x:\n",
    "        print(i,'is in another list')"
   ]
  },
  {
   "cell_type": "code",
   "execution_count": 5,
   "id": "3b0a2cd8-1aff-4f41-8136-9724bc15327c",
   "metadata": {},
   "outputs": [
    {
     "data": {
      "text/plain": [
       "[1, 4, 3, 2, 5]"
      ]
     },
     "execution_count": 5,
     "metadata": {},
     "output_type": "execute_result"
    }
   ],
   "source": [
    "#50. Swap two elements in a list by their indices.\n",
    "\n",
    "x=[1,2,3,4,5]\n",
    "x[1],x[3]=x[3],x[1]\n",
    "x"
   ]
  },
  {
   "cell_type": "code",
   "execution_count": null,
   "id": "1448f5f4-0529-46e9-8d25-d01bc2a1a2f7",
   "metadata": {},
   "outputs": [],
   "source": [
    "X=('1','2')\n",
    "Y=X.replace('2','1')\n",
    "print(Y)"
   ]
  },
  {
   "cell_type": "code",
   "execution_count": 17,
   "id": "561859b7-a2ff-4b90-afe1-a60dc1cbfc97",
   "metadata": {},
   "outputs": [
    {
     "data": {
      "text/plain": [
       "(1, 2, 3, 4, 5)"
      ]
     },
     "execution_count": 17,
     "metadata": {},
     "output_type": "execute_result"
    }
   ],
   "source": [
    "#Tuple Based Practice Problem\n",
    "#1. Create a tuple with integers from 1 to 5.\n",
    "x=(1,2,3,4,5)\n",
    "x"
   ]
  },
  {
   "cell_type": "code",
   "execution_count": null,
   "id": "6dee7045-8643-4409-95fb-34c60b62d3f4",
   "metadata": {},
   "outputs": [],
   "source": [
    "#2. Access the third element of a tuple\n",
    "x=(1,2,3,4,5)\n",
    "x[2:3]\n"
   ]
  },
  {
   "cell_type": "code",
   "execution_count": 23,
   "id": "57b37c5c-5998-4777-b711-d872d1853d9e",
   "metadata": {},
   "outputs": [
    {
     "name": "stdout",
     "output_type": "stream",
     "text": [
      "length of tuple without using the len() 62\n"
     ]
    }
   ],
   "source": [
    "#3. Find the length of a tuple without using the `len()` function.\n",
    "x=('find the length of a tuple without using the `len()` function.')\n",
    "y=0\n",
    "for every_element in x:\n",
    "    y+=1\n",
    "print('length of tuple without using the len() is', y)"
   ]
  },
  {
   "cell_type": "code",
   "execution_count": null,
   "id": "3972e333-0769-437a-98fa-47a3055b6801",
   "metadata": {},
   "outputs": [],
   "source": []
  },
  {
   "cell_type": "code",
   "execution_count": 28,
   "id": "60b00dcb-0fb6-4704-b05b-ce7cb77ba397",
   "metadata": {},
   "outputs": [],
   "source": [
    "#4. Count the occurrences of an element in a tuple.\n",
    "x=(1,1,2,2,3,3,4,5,6,7,7,7)"
   ]
  },
  {
   "cell_type": "code",
   "execution_count": 29,
   "id": "39b0fb3b-c8f0-47ba-b18a-38b6c8147ce4",
   "metadata": {},
   "outputs": [
    {
     "data": {
      "text/plain": [
       "3"
      ]
     },
     "execution_count": 29,
     "metadata": {},
     "output_type": "execute_result"
    }
   ],
   "source": [
    "x.count(7)"
   ]
  },
  {
   "cell_type": "code",
   "execution_count": 36,
   "id": "e6826874-9f5b-4dbb-945d-40a642c9fb74",
   "metadata": {},
   "outputs": [
    {
     "data": {
      "text/plain": [
       "(1, 1, 2, 2, 3, 3, 4, 5, 6, 7, 7, 7)"
      ]
     },
     "execution_count": 36,
     "metadata": {},
     "output_type": "execute_result"
    }
   ],
   "source": [
    "#5. Find the index of the first occurrence of an element in a tuple.\n",
    "x"
   ]
  },
  {
   "cell_type": "code",
   "execution_count": 38,
   "id": "ae7fde5b-6ae3-41f2-b823-551825ea0691",
   "metadata": {},
   "outputs": [
    {
     "data": {
      "text/plain": [
       "4"
      ]
     },
     "execution_count": 38,
     "metadata": {},
     "output_type": "execute_result"
    }
   ],
   "source": [
    "x.index(3)"
   ]
  },
  {
   "cell_type": "code",
   "execution_count": 55,
   "id": "31895730-e235-4172-aafe-3007ba347533",
   "metadata": {},
   "outputs": [
    {
     "name": "stdin",
     "output_type": "stream",
     "text": [
      "enter a number 1\n"
     ]
    },
    {
     "name": "stdout",
     "output_type": "stream",
     "text": [
      "True\n"
     ]
    }
   ],
   "source": [
    "#6.Check if an element exists in a tuple.\n",
    "x=(1,2,3,4)\n",
    "a=int(input('enter a number'))\n",
    "if a in x:\n",
    "    print(True)\n",
    "else:\n",
    "    print(False)"
   ]
  },
  {
   "cell_type": "code",
   "execution_count": 40,
   "id": "ad5e8724-f155-43f6-bed6-c855ad40926f",
   "metadata": {},
   "outputs": [
    {
     "data": {
      "text/plain": [
       "(1, 1, 2, 2, 3, 3, 4, 5, 6, 7, 7, 7)"
      ]
     },
     "execution_count": 40,
     "metadata": {},
     "output_type": "execute_result"
    }
   ],
   "source": [
    "#7.Convert a tuple to a list.\n",
    "x\n"
   ]
  },
  {
   "cell_type": "code",
   "execution_count": 43,
   "id": "3e20ddc8-9fd1-4a0c-bb75-8b5bde1c2532",
   "metadata": {},
   "outputs": [
    {
     "data": {
      "text/plain": [
       "[1, 1, 2, 2, 3, 3, 4, 5, 6, 7, 7, 7]"
      ]
     },
     "execution_count": 43,
     "metadata": {},
     "output_type": "execute_result"
    }
   ],
   "source": [
    "y=list(x)\n",
    "y"
   ]
  },
  {
   "cell_type": "code",
   "execution_count": 45,
   "id": "7fa4ec95-34d5-4bb7-9153-669ccb2bc586",
   "metadata": {},
   "outputs": [
    {
     "data": {
      "text/plain": [
       "(1, 1, 2, 2, 3, 3, 4, 5, 6, 7, 7, 7)"
      ]
     },
     "execution_count": 45,
     "metadata": {},
     "output_type": "execute_result"
    }
   ],
   "source": [
    "#8. Convert a list to a tuple.\n",
    "tuple(y)"
   ]
  },
  {
   "cell_type": "code",
   "execution_count": 57,
   "id": "3fab6dd5-ef6e-4f93-a4bc-cb613115c252",
   "metadata": {},
   "outputs": [
    {
     "name": "stdout",
     "output_type": "stream",
     "text": [
      "['a', 'p', 'p', 'l', 'e']\n",
      "['m', 'a', 'n', 'g', 'o']\n"
     ]
    }
   ],
   "source": [
    "#9. Unpack the elements of a tuple into variables.\n",
    "x=[('apple',100),('mango',200)]\n",
    "for fruits,price in x:\n",
    "    print(list(fruits))"
   ]
  },
  {
   "cell_type": "code",
   "execution_count": 21,
   "id": "46d278a2-225e-4e66-8601-4e5d20b0c075",
   "metadata": {},
   "outputs": [
    {
     "name": "stdout",
     "output_type": "stream",
     "text": [
      "(2, 4, 6, 8, 10)\n"
     ]
    }
   ],
   "source": [
    "#10.Create a tuple of even numbers from 1 to 10.\n",
    "y=[]\n",
    "for i in range(1,11):\n",
    "    if i%2==0:\n",
    "        y.append(i)\n",
    "print(tuple(y))"
   ]
  },
  {
   "cell_type": "code",
   "execution_count": 22,
   "id": "78ec1b41-f22e-42f9-a9f5-6753bd32c1b5",
   "metadata": {},
   "outputs": [
    {
     "name": "stdout",
     "output_type": "stream",
     "text": [
      "(1, 3, 5, 7, 9)\n"
     ]
    }
   ],
   "source": [
    "#11. Create a tuple of odd numbers from 1 to 10.\n",
    "y=[]\n",
    "for i in range(1,11):\n",
    "    if i%2!=0:\n",
    "        y.append(i)\n",
    "print(tuple(y))"
   ]
  },
  {
   "cell_type": "code",
   "execution_count": 5,
   "id": "bfebbf7e-56d1-48d5-886f-6692feee10ad",
   "metadata": {},
   "outputs": [
    {
     "data": {
      "text/plain": [
       "(2, 4, 6, 8, 10, 1, 3, 5, 7, 9)"
      ]
     },
     "execution_count": 5,
     "metadata": {},
     "output_type": "execute_result"
    }
   ],
   "source": [
    "#12. Concatenate two tuples.\n",
    "x=(2,4,6,8,10)\n",
    "s=(1,3,5,7,9)\n",
    "x+s\n"
   ]
  },
  {
   "cell_type": "code",
   "execution_count": 35,
   "id": "c66f1379-37a2-4a57-aea9-301aa37d82a1",
   "metadata": {},
   "outputs": [
    {
     "data": {
      "text/plain": [
       "(1, 2, 3, 1, 2, 3, 1, 2, 3)"
      ]
     },
     "execution_count": 35,
     "metadata": {},
     "output_type": "execute_result"
    }
   ],
   "source": [
    "#13. Repeat a tuple three times.\n",
    "(1,2,3)*3"
   ]
  },
  {
   "cell_type": "code",
   "execution_count": 10,
   "id": "455cd577-6d6d-47d9-8d78-72526a7566b3",
   "metadata": {},
   "outputs": [
    {
     "name": "stdout",
     "output_type": "stream",
     "text": [
      "tuple is not empty\n"
     ]
    }
   ],
   "source": [
    "#14. Check if a tuple is empty.\n",
    "x=(1,)\n",
    "if len(x)==0:\n",
    "    print('tuple is empty')\n",
    "else:\n",
    "    print('tuple is not empty')"
   ]
  },
  {
   "cell_type": "code",
   "execution_count": 7,
   "id": "4df44e93-bcfb-46e1-9811-33f93b0b4569",
   "metadata": {},
   "outputs": [],
   "source": [
    "#15.Create a nested tuple.\n",
    "x=(1,2,3)\n",
    "y=(4,5,6,(7,8,9))\n",
    "\n",
    "z=x+y"
   ]
  },
  {
   "cell_type": "code",
   "execution_count": 8,
   "id": "1a808527-3e1d-40f1-a6b5-caea0a7deb33",
   "metadata": {},
   "outputs": [
    {
     "data": {
      "text/plain": [
       "(1, 2, 3, 4, 5, 6, (7, 8, 9))"
      ]
     },
     "execution_count": 8,
     "metadata": {},
     "output_type": "execute_result"
    }
   ],
   "source": [
    "#16. Access the first element of a nested tuple.\n",
    "z"
   ]
  },
  {
   "cell_type": "code",
   "execution_count": 9,
   "id": "10b42d81-a165-4d32-9fad-3a489ac7105e",
   "metadata": {},
   "outputs": [
    {
     "data": {
      "text/plain": [
       "7"
      ]
     },
     "execution_count": 9,
     "metadata": {},
     "output_type": "execute_result"
    }
   ],
   "source": [
    "z[6][0]"
   ]
  },
  {
   "cell_type": "code",
   "execution_count": 11,
   "id": "cd0074cf-632d-4e62-b976-f4244ee6db9b",
   "metadata": {},
   "outputs": [
    {
     "data": {
      "text/plain": [
       "(1,)"
      ]
     },
     "execution_count": 11,
     "metadata": {},
     "output_type": "execute_result"
    }
   ],
   "source": [
    "#17.Create a tuple with a single element.\n",
    "s=(1,)\n",
    "s"
   ]
  },
  {
   "cell_type": "code",
   "execution_count": 22,
   "id": "81e23126-0ca2-4f36-9dbc-467d235d7ecd",
   "metadata": {},
   "outputs": [
    {
     "data": {
      "text/plain": [
       "True"
      ]
     },
     "execution_count": 22,
     "metadata": {},
     "output_type": "execute_result"
    }
   ],
   "source": [
    "#18. Compare two tuples.\n",
    "x=(1,2,3)\n",
    "y=(4,5,6)\n",
    "x<y"
   ]
  },
  {
   "cell_type": "code",
   "execution_count": 32,
   "id": "e5bfad5d-1ece-4a24-8e5b-176a0aadf002",
   "metadata": {},
   "outputs": [],
   "source": [
    "#19. Delete a tuple.\n",
    "x=(1,2,3)\n",
    "del(x)\n"
   ]
  },
  {
   "cell_type": "code",
   "execution_count": 34,
   "id": "9021ad7c-1eb5-4c36-b81d-309acda25835",
   "metadata": {},
   "outputs": [
    {
     "data": {
      "text/plain": [
       "(2, 3)"
      ]
     },
     "execution_count": 34,
     "metadata": {},
     "output_type": "execute_result"
    }
   ],
   "source": [
    "#20. Slice a tuple.\n",
    "x=(1,2,3,4,5)\n",
    "x[1:3:1]"
   ]
  },
  {
   "cell_type": "code",
   "execution_count": 35,
   "id": "683ddcd4-3b0f-43c3-9e9d-807582bf933c",
   "metadata": {},
   "outputs": [
    {
     "data": {
      "text/plain": [
       "6"
      ]
     },
     "execution_count": 35,
     "metadata": {},
     "output_type": "execute_result"
    }
   ],
   "source": [
    "#21. Find the maximum value in a tuple.\n",
    "x=(1,2,3,4,5,6)\n",
    "max(x)"
   ]
  },
  {
   "cell_type": "code",
   "execution_count": 36,
   "id": "88ed83db-c2ea-44cd-b17e-215c539598a0",
   "metadata": {},
   "outputs": [
    {
     "data": {
      "text/plain": [
       "1"
      ]
     },
     "execution_count": 36,
     "metadata": {},
     "output_type": "execute_result"
    }
   ],
   "source": [
    "#22. Find the minimum value in a tuple.\n",
    "x=(1,2,3,4,5,6)\n",
    "min(x)"
   ]
  },
  {
   "cell_type": "code",
   "execution_count": 58,
   "id": "21164afe-be5a-4478-998a-96fc2cda73ca",
   "metadata": {},
   "outputs": [
    {
     "data": {
      "text/plain": [
       "('23.', 'Convert', 'a', 'string', 'to', 'a', 'tuple', 'of', 'characters')"
      ]
     },
     "execution_count": 58,
     "metadata": {},
     "output_type": "execute_result"
    }
   ],
   "source": [
    "#23. Convert a string to a tuple of characters.\n",
    "x=('23. Convert a string to a tuple of characters')\n",
    "y=x.split()\n",
    "z=tuple(y)\n",
    "z"
   ]
  },
  {
   "cell_type": "code",
   "execution_count": 59,
   "id": "6a8a6580-dc45-4326-88ef-e7e9db73a4ae",
   "metadata": {},
   "outputs": [
    {
     "data": {
      "text/plain": [
       "('23.', 'Convert', 'a', 'string', 'to', 'a', 'tuple', 'of', 'characters')"
      ]
     },
     "execution_count": 59,
     "metadata": {},
     "output_type": "execute_result"
    }
   ],
   "source": [
    "#24. Convert a tuple of characters to a string.\n",
    "z"
   ]
  },
  {
   "cell_type": "code",
   "execution_count": 62,
   "id": "4cac6193-3f7d-4893-99ae-50b907f5f311",
   "metadata": {},
   "outputs": [
    {
     "name": "stdout",
     "output_type": "stream",
     "text": [
      " 23.Convertastringtoatupleofcharacters\n"
     ]
    }
   ],
   "source": [
    "a=list(z)\n",
    "b=' '\n",
    "for i in a:\n",
    "    b=b+i\n",
    "print(b)\n",
    "    "
   ]
  },
  {
   "cell_type": "code",
   "execution_count": 77,
   "id": "74fb0d90-15b7-4683-96fd-dc0261f3e48a",
   "metadata": {},
   "outputs": [
    {
     "data": {
      "text/plain": [
       "(1, (6+3j), 2.3, 'string')"
      ]
     },
     "execution_count": 77,
     "metadata": {},
     "output_type": "execute_result"
    }
   ],
   "source": [
    "#25. Create a tuple from multiple data types.\n",
    "x=(1,6+3j,2.3,'string')\n",
    "x"
   ]
  },
  {
   "cell_type": "code",
   "execution_count": 76,
   "id": "598fd8cf-67fa-482c-8f91-bdb85d74b445",
   "metadata": {},
   "outputs": [
    {
     "name": "stdout",
     "output_type": "stream",
     "text": [
      "tuples are identical\n"
     ]
    }
   ],
   "source": [
    "#26. Check if two tuples are identical.\n",
    "x=(1,2,4)\n",
    "y=(1,2,4)\n",
    "if x==y:\n",
    "    print('tuples are identical')\n",
    "else:\n",
    "    print('tuples are not identical')"
   ]
  },
  {
   "cell_type": "code",
   "execution_count": 74,
   "id": "bbe615c7-60a9-4c1d-9f2e-de966218a90c",
   "metadata": {},
   "outputs": [
    {
     "data": {
      "text/plain": [
       "['a', 'c', 'd', 'f', 'z']"
      ]
     },
     "execution_count": 74,
     "metadata": {},
     "output_type": "execute_result"
    }
   ],
   "source": [
    "#27. Sort the elements of a tuple.\n",
    "x=('a','c','f','z','d')\n",
    "y=(list(x))\n",
    "sorted(y)\n"
   ]
  },
  {
   "cell_type": "code",
   "execution_count": 1,
   "id": "ba813233-ef68-42f8-b6d3-0c57c230b141",
   "metadata": {},
   "outputs": [
    {
     "name": "stdout",
     "output_type": "stream",
     "text": [
      "1\n",
      "2\n",
      "3\n",
      "4\n",
      "5\n"
     ]
    }
   ],
   "source": [
    "#28. Convert a tuple of integers to a tuple of strings.\n",
    "x=(1,2,3,4,5)\n",
    "y=list(x)\n",
    "for i in (y):\n",
    "    str(i)\n",
    "    print(i)\n",
    "\n"
   ]
  },
  {
   "cell_type": "code",
   "execution_count": 10,
   "id": "9f3e2595-7ebd-4608-b922-41e27b8756e0",
   "metadata": {},
   "outputs": [
    {
     "name": "stdout",
     "output_type": "stream",
     "text": [
      "1\n",
      "2\n",
      "3\n",
      "4\n"
     ]
    }
   ],
   "source": [
    "#29. Convert a tuple of strings to a tuple of integers.\n",
    "x=('1','2','3','4')\n",
    "y=list(x)\n",
    "for i in y:\n",
    "    if i.isnumeric():\n",
    "        int(i)\n",
    "        print((i)) "
   ]
  },
  {
   "cell_type": "code",
   "execution_count": null,
   "id": "3d41b3fc-e2dc-404c-8ddc-85960ba43cb3",
   "metadata": {},
   "outputs": [],
   "source": [
    "#30.Merge two tuples.\n",
    "x=(1,2,3,4,5)\n",
    "y=('a','b','c','d')\n",
    "x+y"
   ]
  },
  {
   "cell_type": "code",
   "execution_count": 17,
   "id": "c82e0b13-8008-471e-82d6-ebb8d7272985",
   "metadata": {},
   "outputs": [
    {
     "name": "stdout",
     "output_type": "stream",
     "text": [
      "(1, 2, 2, 3, 4, 5, 3, 7, 67)\n"
     ]
    }
   ],
   "source": [
    "#31.Flatten a nested tuple.\n",
    "x=((1,2,3),(2,3,4,5,67,7))\n",
    "y=[]\n",
    "x1=list(x)\n",
    "y\n",
    "for flatten in x1:\n",
    "    for every_item in flatten:\n",
    "        y.insert(every_item,every_item)\n",
    "print(tuple(y))"
   ]
  },
  {
   "cell_type": "code",
   "execution_count": 25,
   "id": "9e42a23e-6305-4f41-8c50-c8b1d2783933",
   "metadata": {},
   "outputs": [
    {
     "name": "stdin",
     "output_type": "stream",
     "text": [
      "enter a number for first n prime numbers 4\n"
     ]
    },
    {
     "ename": "TypeError",
     "evalue": "'int' object is not iterable",
     "output_type": "error",
     "traceback": [
      "\u001b[0;31m---------------------------------------------------------------------------\u001b[0m",
      "\u001b[0;31mTypeError\u001b[0m                                 Traceback (most recent call last)",
      "Cell \u001b[0;32mIn[25], line 5\u001b[0m\n\u001b[1;32m      3\u001b[0m count\u001b[38;5;241m=\u001b[39m\u001b[38;5;241m0\u001b[39m\n\u001b[1;32m      4\u001b[0m a\u001b[38;5;241m=\u001b[39m[]\n\u001b[0;32m----> 5\u001b[0m \u001b[38;5;28;01mfor\u001b[39;00m i \u001b[38;5;129;01min\u001b[39;00m x: \n\u001b[1;32m      6\u001b[0m     \u001b[38;5;28;01mif\u001b[39;00m i\u001b[38;5;241m%\u001b[39m\u001b[38;5;241m2\u001b[39m\u001b[38;5;241m==\u001b[39m\u001b[38;5;241m0\u001b[39m \u001b[38;5;129;01mand\u001b[39;00m i\u001b[38;5;241m%\u001b[39m\u001b[38;5;241m3\u001b[39m\u001b[38;5;241m==\u001b[39m\u001b[38;5;241m0\u001b[39m:\n\u001b[1;32m      7\u001b[0m         count\u001b[38;5;241m+\u001b[39m\u001b[38;5;241m=\u001b[39m\u001b[38;5;241m1\u001b[39m\n",
      "\u001b[0;31mTypeError\u001b[0m: 'int' object is not iterable"
     ]
    }
   ],
   "source": [
    "#32. Create a tuple of the first 5 prime numbers.\n",
    "x=int(input('enter a number for first n prime numbers'))\n",
    "count=0\n",
    "a=[]\n",
    "for i in x: \n",
    "    if i%2==0 and i%3==0:\n",
    "        count+=1\n",
    "        a.append(i)\n",
    "        print(a)"
   ]
  },
  {
   "cell_type": "code",
   "execution_count": 24,
   "id": "46456d71-a3e6-4229-93b1-b5e49b26d225",
   "metadata": {},
   "outputs": [
    {
     "ename": "TypeError",
     "evalue": "object of type 'int' has no len()",
     "output_type": "error",
     "traceback": [
      "\u001b[0;31m---------------------------------------------------------------------------\u001b[0m",
      "\u001b[0;31mTypeError\u001b[0m                                 Traceback (most recent call last)",
      "Cell \u001b[0;32mIn[24], line 1\u001b[0m\n\u001b[0;32m----> 1\u001b[0m \u001b[38;5;28;43mlen\u001b[39;49m\u001b[43m(\u001b[49m\u001b[38;5;241;43m2\u001b[39;49m\u001b[43m)\u001b[49m\n",
      "\u001b[0;31mTypeError\u001b[0m: object of type 'int' has no len()"
     ]
    }
   ],
   "source": []
  },
  {
   "cell_type": "code",
   "execution_count": 33,
   "id": "4d32dc0c-ed42-445e-8aba-2724d0279a79",
   "metadata": {},
   "outputs": [
    {
     "name": "stdout",
     "output_type": "stream",
     "text": [
      " this is a palindrome\n"
     ]
    }
   ],
   "source": [
    "#33. Check if a tuple is a palindrome.\n",
    "x=('madam', 'refer')\n",
    "if x[0][::-1]==x[0] and x[1][::-1]==x[1]:\n",
    "    print(' this is a palindrome')\n",
    "else:\n",
    "          print('this is not palindrome')\n",
    "    "
   ]
  },
  {
   "cell_type": "code",
   "execution_count": 19,
   "id": "82fb41e4-975e-4126-9a9f-f83e327c0de4",
   "metadata": {},
   "outputs": [
    {
     "name": "stdout",
     "output_type": "stream",
     "text": [
      "(1, 4, 9, 16, 25)\n"
     ]
    }
   ],
   "source": [
    "#34. Create a tuple of squares of numbers from 1 to 5.\n",
    "x=(1,2,3,4,5)\n",
    "y=[]\n",
    "x1=list(x)\n",
    "for every_num in x1:\n",
    "    z=every_num*every_num\n",
    "    y.append(z)\n",
    "print(tuple(y))"
   ]
  },
  {
   "cell_type": "code",
   "execution_count": 24,
   "id": "24c0ecb4-178d-40c0-b8d2-222954c106ba",
   "metadata": {},
   "outputs": [
    {
     "name": "stdout",
     "output_type": "stream",
     "text": [
      "(2, 4, 6, 8, 10)\n"
     ]
    }
   ],
   "source": [
    "#35. Filter out all even numbers from a tuple.\n",
    "x=(1,2,3,4,5,6,7,8,9,10)\n",
    "x1=list(x)\n",
    "y=[]\n",
    "for i in x1:\n",
    "    if i%2==0:\n",
    "        y.append(i)\n",
    "print(tuple(y))"
   ]
  },
  {
   "cell_type": "code",
   "execution_count": 4,
   "id": "8354d8cc-40a4-44eb-a351-0e57bfbd1690",
   "metadata": {},
   "outputs": [
    {
     "name": "stdout",
     "output_type": "stream",
     "text": [
      "(2, 4, 6, 8, 10)\n"
     ]
    }
   ],
   "source": [
    "#36.Multiply all elements in a tuple by 2.\n",
    "x=(1,2,3,4,5)\n",
    "z=[]\n",
    "x1=list(x)\n",
    "for i in x1:\n",
    "    z.append(i*2)\n",
    "print(tuple(z))\n",
    "    "
   ]
  },
  {
   "cell_type": "code",
   "execution_count": 9,
   "id": "79626106-1363-42ae-bd8f-37cd8cc76cbb",
   "metadata": {},
   "outputs": [
    {
     "name": "stdout",
     "output_type": "stream",
     "text": [
      "(23, 18, 1, 4, 9, 30, 23, 16, 4, 12)\n"
     ]
    }
   ],
   "source": [
    "#37. Create a tuple of random numbers.\n",
    "import random\n",
    "new_list = []\n",
    "for i in range(0,10):\n",
    "    n = random.randint(1,30)\n",
    "    new_list.append(n)\n",
    "print(tuple(new_list))\n",
    "    "
   ]
  },
  {
   "cell_type": "code",
   "execution_count": 23,
   "id": "93d52830-1efb-4c1d-b237-b12f341a628a",
   "metadata": {},
   "outputs": [
    {
     "name": "stdout",
     "output_type": "stream",
     "text": [
      "False\n"
     ]
    }
   ],
   "source": [
    "#38.Check if a tuple is sorted.\n",
    "x=(1,2,3,4)\n",
    "y=(sorted(x))\n",
    "if x==y:\n",
    "    print(True)\n",
    "else:\n",
    "    print(False)"
   ]
  },
  {
   "cell_type": "code",
   "execution_count": 11,
   "id": "02b71275-4169-4e47-b330-1cb0014f7f25",
   "metadata": {},
   "outputs": [
    {
     "data": {
      "text/plain": [
       "(4, 5, 1, 2, 3)"
      ]
     },
     "execution_count": 11,
     "metadata": {},
     "output_type": "execute_result"
    }
   ],
   "source": [
    "#39. Rotate a tuple to the left by `n` positions.\n",
    "x=(1,2,3,4,5)\n",
    "y=x[-2:]+x[:-2]\n",
    "y\n"
   ]
  },
  {
   "cell_type": "code",
   "execution_count": 14,
   "id": "7954fcc0-c7e3-48af-992d-25bca2d4cfa7",
   "metadata": {},
   "outputs": [
    {
     "data": {
      "text/plain": [
       "(2, 3, 4, 5, 1)"
      ]
     },
     "execution_count": 14,
     "metadata": {},
     "output_type": "execute_result"
    }
   ],
   "source": [
    "#40. Rotate a tuple to the right by `n` positions.\n",
    "x=(1,2,3,4,5)\n",
    "y=x[1:]+x[:1]\n",
    "y"
   ]
  },
  {
   "cell_type": "code",
   "execution_count": 86,
   "id": "da2f9e01-d789-4be5-9e2f-e76f29288964",
   "metadata": {},
   "outputs": [
    {
     "name": "stdin",
     "output_type": "stream",
     "text": [
      "enter the number for fibonacci series 3\n"
     ]
    },
    {
     "name": "stdout",
     "output_type": "stream",
     "text": [
      "(1, 0)\n",
      "(2, 1)\n",
      "(3, 2)\n"
     ]
    }
   ],
   "source": [
    "#41.Create a tuple of the first 5 Fibonacci numbers.\n",
    "x=0\n",
    "y=1\n",
    "c=0\n",
    "d=0\n",
    "z=int(input('enter the number for fibonacci series'))\n",
    "for i in  range((z)):\n",
    "    if i<=c:\n",
    "        a,e=x+y,d\n",
    "        d+=1\n",
    "        x=y\n",
    "        y=a\n",
    "        c+=1\n",
    "        print((a,e))"
   ]
  },
  {
   "cell_type": "code",
   "execution_count": 30,
   "id": "a471ee38-dd2c-4e9d-a1cd-ecfbadb6cdac",
   "metadata": {},
   "outputs": [
    {
     "name": "stdin",
     "output_type": "stream",
     "text": [
      "enter 2324q35w46e\n"
     ]
    },
    {
     "name": "stdout",
     "output_type": "stream",
     "text": [
      "('2', '3', '2', '4', 'q', '3', '5', 'w', '4', '6', 'e')\n"
     ]
    }
   ],
   "source": [
    "#42. Create a tuple from user input.\n",
    "x=tuple(list(input('enter')))\n",
    "\n",
    "print(x)"
   ]
  },
  {
   "cell_type": "code",
   "execution_count": 73,
   "id": "f1af29bd-ae37-4115-9055-ae916310be86",
   "metadata": {},
   "outputs": [
    {
     "name": "stdout",
     "output_type": "stream",
     "text": [
      "(1, 4, 3, 2, 5)\n"
     ]
    }
   ],
   "source": [
    "#43. Swap two elements in a tuple.\n",
    "\n",
    "x=(1,2,3,4,5)\n",
    "x1=list(x)\n",
    "x1[1],x1[3]=x1[3],x1[1]\n",
    "print(tuple(x1))"
   ]
  },
  {
   "cell_type": "code",
   "execution_count": 31,
   "id": "06a77a35-ae73-4f3b-865f-f8380e828afe",
   "metadata": {},
   "outputs": [
    {
     "data": {
      "text/plain": [
       "[5, 4, 3, 2, 1]"
      ]
     },
     "execution_count": 31,
     "metadata": {},
     "output_type": "execute_result"
    }
   ],
   "source": [
    "#44. Reverse the elements of a tuple.\n",
    "x=[1,2,3,4,5]\n",
    "x[::-1]\n"
   ]
  },
  {
   "cell_type": "code",
   "execution_count": 34,
   "id": "c18225d2-0932-43d7-94b9-bbc727231ca4",
   "metadata": {},
   "outputs": [
    {
     "name": "stdin",
     "output_type": "stream",
     "text": [
      "enter a number: 5\n"
     ]
    },
    {
     "name": "stdout",
     "output_type": "stream",
     "text": [
      "(1, 2, 4, 8, 16)\n"
     ]
    }
   ],
   "source": [
    "#45. Create a tuple of the first `n` powers of 2.\n",
    "x=[]\n",
    "a=int(input('enter a number:'))\n",
    "for i in range(0,a):\n",
    "    y=2**i\n",
    "    x.append(y)\n",
    "print(tuple(x))"
   ]
  },
  {
   "cell_type": "code",
   "execution_count": 39,
   "id": "26875d32-d50d-49e8-b49c-ee0f32b63be0",
   "metadata": {},
   "outputs": [
    {
     "name": "stdout",
     "output_type": "stream",
     "text": [
      "x= ('Find', 'the', 'longest', 'string', 'in', 'a', 'tuple', 'of', 'strings')\n"
     ]
    },
    {
     "data": {
      "text/plain": [
       "'longest'"
      ]
     },
     "execution_count": 39,
     "metadata": {},
     "output_type": "execute_result"
    }
   ],
   "source": [
    "#46. Find the longest string in a tuple of strings.\n",
    "x= 'Find the longest string in a tuple of strings'\n",
    "y=tuple(x.split())\n",
    "print('x=',y)\n",
    "max(y,key=len)\n"
   ]
  },
  {
   "cell_type": "code",
   "execution_count": 41,
   "id": "9c528171-29d2-4f99-a9e7-90c8ed259401",
   "metadata": {},
   "outputs": [
    {
     "name": "stdout",
     "output_type": "stream",
     "text": [
      "x= ('Find', 'the', 'shortest', 'string', 'in', 'a', 'tuple', 'of', 'strings')\n"
     ]
    },
    {
     "data": {
      "text/plain": [
       "'a'"
      ]
     },
     "execution_count": 41,
     "metadata": {},
     "output_type": "execute_result"
    }
   ],
   "source": [
    "#47.Find the shortest string in a tuple of strings.\n",
    "x= 'Find the shortest string in a tuple of strings'\n",
    "y=tuple(x.split())\n",
    "print('x=',y)\n",
    "min(y,key=len)\n"
   ]
  },
  {
   "cell_type": "code",
   "execution_count": 53,
   "id": "aa3bf7ec-f673-4926-b582-89503bd36052",
   "metadata": {},
   "outputs": [
    {
     "name": "stdin",
     "output_type": "stream",
     "text": [
      "enter a number 4\n"
     ]
    },
    {
     "name": "stdout",
     "output_type": "stream",
     "text": [
      "(0.0, 0)\n",
      "(1.0, 1)\n",
      "(4.0, 2)\n",
      "(8.0, 3)\n"
     ]
    }
   ],
   "source": [
    "#48. Create a tuple of the first `n` triangular numbers.\n",
    "a=int(input('enter a number'))\n",
    "c=0\n",
    "e=0\n",
    "for i in range(a):\n",
    "    d,c=c+(i*(i+1)/2),e\n",
    "    e+=1\n",
    "    print((d,c))\n",
    "    "
   ]
  },
  {
   "cell_type": "code",
   "execution_count": 68,
   "id": "cd83d31b-5dfe-4892-96db-baf169a74f5f",
   "metadata": {},
   "outputs": [
    {
     "data": {
      "text/plain": [
       "True"
      ]
     },
     "execution_count": 68,
     "metadata": {},
     "output_type": "execute_result"
    }
   ],
   "source": [
    "#49. Check if a tuple contains another tuple as a  subsequence\n",
    "x=(1,2,3)\n",
    "y=(1,2,3,4,5)\n",
    "x1=set(x)\n",
    "y1=set(y)\n",
    "x1.issubset(y1)\n"
   ]
  },
  {
   "cell_type": "code",
   "execution_count": 66,
   "id": "a3d6f275-7521-4d97-b1af-a4cf246a5a2f",
   "metadata": {},
   "outputs": [
    {
     "name": "stdout",
     "output_type": "stream",
     "text": [
      "(1, 0, 1, 0, 1, 0, 1, 0, 1, 0)\n"
     ]
    }
   ],
   "source": [
    "#50.Create a tuple of alternating 1s and 0s of length `n`.\n",
    "x=[]\n",
    "for i in range(0,10,1):\n",
    "    if i%2==0:\n",
    "        x.append(1)\n",
    "    else:\n",
    "        x.append(0)\n",
    "print(tuple(x))\n",
    "        "
   ]
  },
  {
   "cell_type": "markdown",
   "id": "780703ef-1b41-468b-bff1-6e058b18c839",
   "metadata": {},
   "source": [
    "### Set Based Practice Problem :\n"
   ]
  },
  {
   "cell_type": "code",
   "execution_count": 89,
   "id": "556904a2-3f62-493c-a2b0-807dca9e336d",
   "metadata": {},
   "outputs": [
    {
     "name": "stdout",
     "output_type": "stream",
     "text": [
      "1\n",
      "2\n",
      "3\n",
      "4\n",
      "5\n"
     ]
    }
   ],
   "source": [
    "#1. Create a set with integers from 1 to 5.\n",
    "for i in range(1,6,1):\n",
    "    print(i)"
   ]
  },
  {
   "cell_type": "code",
   "execution_count": 44,
   "id": "d361be67-40cf-409d-a0d3-115895b66bfc",
   "metadata": {},
   "outputs": [
    {
     "data": {
      "text/plain": [
       "{1, 2, 3, 4}"
      ]
     },
     "execution_count": 44,
     "metadata": {},
     "output_type": "execute_result"
    }
   ],
   "source": [
    "#2. Add an element to a set.\n",
    "x={1,2,3}\n",
    "y=list(x)\n",
    "y.append(4)\n",
    "set(y)"
   ]
  },
  {
   "cell_type": "code",
   "execution_count": 64,
   "id": "5e2d34a1-4e3e-4545-accb-e59c45c568ba",
   "metadata": {},
   "outputs": [
    {
     "data": {
      "text/plain": [
       "{'a', 'b', 'c'}"
      ]
     },
     "execution_count": 64,
     "metadata": {},
     "output_type": "execute_result"
    }
   ],
   "source": [
    "#3. Remove an element from a set.\n",
    "x={'a','b','c','d'}\n",
    "y=list(x)\n",
    "y.pop(0)\n",
    "set(y)"
   ]
  },
  {
   "cell_type": "code",
   "execution_count": 12,
   "id": "b4c9ca7e-ad25-40df-b357-cb9f33d03379",
   "metadata": {},
   "outputs": [
    {
     "name": "stdout",
     "output_type": "stream",
     "text": [
      "it is there\n"
     ]
    }
   ],
   "source": [
    "#4. Check if an element exists in a set.\n",
    "x={1,2,3,4}\n",
    "if 1 in x:\n",
    "    print('it is there')\n",
    "else:\n",
    "    print('not there')\n",
    "\n"
   ]
  },
  {
   "cell_type": "code",
   "execution_count": 18,
   "id": "2b592c84-b1d1-49f9-a267-221d51cda694",
   "metadata": {},
   "outputs": [
    {
     "name": "stdout",
     "output_type": "stream",
     "text": [
      "the length of a set without using the `len()` function is 6\n"
     ]
    }
   ],
   "source": [
    "#5. Find the length of a set without using the `len()` function.\n",
    "x={'Find the length of a set without using the `len()` function.',1,2,3,4,5}\n",
    "y=0\n",
    "for every_item in x:\n",
    "    y+=1\n",
    "print('the length of a set without using the `len()` function is', y)"
   ]
  },
  {
   "cell_type": "code",
   "execution_count": 21,
   "id": "13f70bb0-01cb-4bf8-ace1-6c760c861378",
   "metadata": {},
   "outputs": [],
   "source": [
    "#6. Clear all elements from a set.\n",
    "x={1,2,3,4,5}\n",
    "y=x.clear()\n",
    "y"
   ]
  },
  {
   "cell_type": "code",
   "execution_count": 27,
   "id": "31014e01-3b6b-40b7-adb0-3065098fed38",
   "metadata": {},
   "outputs": [
    {
     "name": "stdout",
     "output_type": "stream",
     "text": [
      "{2, 4, 6, 8, 10}\n"
     ]
    }
   ],
   "source": [
    "#7. Create a set of even numbers from 1 to 10.\n",
    "x{1,2,3,4,5,6,7,8,9,10}\n",
    "y=[]\n",
    "for every_item in x:\n",
    "    if every_item%2==0:\n",
    "        y.append(every_item)\n",
    "    else:\n",
    "        continue\n",
    "z=set(y)\n",
    "print(z)\n",
    "        "
   ]
  },
  {
   "cell_type": "code",
   "execution_count": 34,
   "id": "186c4d18-d530-4a85-b379-3510418afaf8",
   "metadata": {},
   "outputs": [
    {
     "name": "stdout",
     "output_type": "stream",
     "text": [
      "{1, 3, 5, 7, 9}\n"
     ]
    }
   ],
   "source": [
    "#8. Create a set of odd numbers from 1 to 10.\n",
    "x={1,2,3,4,5,6,7,8,9,10}\n",
    "y=[]\n",
    "for every_item in x:\n",
    "    if every_item%2!=0:\n",
    "        y.append(every_item)\n",
    "    else:\n",
    "        continue\n",
    "z=set(y)\n",
    "print(z)"
   ]
  },
  {
   "cell_type": "code",
   "execution_count": 60,
   "id": "5cd37f0f-a6b2-4772-b904-609a885c2258",
   "metadata": {},
   "outputs": [
    {
     "name": "stdout",
     "output_type": "stream",
     "text": [
      "{1, 2, 3, 4, 6, 7, 8, 9}\n"
     ]
    }
   ],
   "source": [
    "#9. Find the union of two sets.\n",
    "x={1,2,3,4}\n",
    "y={6,7,8,9}\n",
    "z=x.union(y)\n",
    "print(z)"
   ]
  },
  {
   "cell_type": "code",
   "execution_count": 66,
   "id": "f50683cc-89be-4788-aba3-03fef9ed9c2d",
   "metadata": {},
   "outputs": [
    {
     "data": {
      "text/plain": [
       "{1, 2, 3}"
      ]
     },
     "execution_count": 66,
     "metadata": {},
     "output_type": "execute_result"
    }
   ],
   "source": [
    "#10. Find the intersection of two sets.\n",
    "x={1,2,3,4}\n",
    "y={1,2,3,5}\n",
    "x.intersection(y)"
   ]
  },
  {
   "cell_type": "code",
   "execution_count": 65,
   "id": "b4f588c3-37dc-4433-9177-f4e556223101",
   "metadata": {},
   "outputs": [
    {
     "name": "stdout",
     "output_type": "stream",
     "text": [
      "{5, 6, 7}\n"
     ]
    }
   ],
   "source": [
    "#11. Find the difference between two sets.\n",
    "x={1,7,5,6}\n",
    "y={1,2,3,4}\n",
    "z=x.difference(y)\n",
    "print(z)"
   ]
  },
  {
   "cell_type": "code",
   "execution_count": 37,
   "id": "cdfd2042-5f90-4b37-9c30-374fca1f30e1",
   "metadata": {},
   "outputs": [
    {
     "data": {
      "text/plain": [
       "{1, 2, 3, 4}"
      ]
     },
     "execution_count": 37,
     "metadata": {},
     "output_type": "execute_result"
    }
   ],
   "source": []
  },
  {
   "cell_type": "code",
   "execution_count": 67,
   "id": "63fef5c0-0511-472b-8727-1fbd9c844fe4",
   "metadata": {},
   "outputs": [
    {
     "data": {
      "text/plain": [
       "True"
      ]
     },
     "execution_count": 67,
     "metadata": {},
     "output_type": "execute_result"
    }
   ],
   "source": [
    "#12. Check if a set is a subset of another set.\n",
    "x={1,2,3,4}\n",
    "y={1,2,3,4,5,6,7,8}\n",
    "x.issubset(y)"
   ]
  },
  {
   "cell_type": "code",
   "execution_count": 70,
   "id": "fd695e8d-3996-4ba3-baa4-3d7bd6f3b50e",
   "metadata": {},
   "outputs": [
    {
     "data": {
      "text/plain": [
       "True"
      ]
     },
     "execution_count": 70,
     "metadata": {},
     "output_type": "execute_result"
    }
   ],
   "source": [
    "#13. Check if a set is a superset of another set.\n",
    "x={1,2,3,4}\n",
    "y={1,2,3,4,5,6,7,8}\n",
    "y.issuperset(x)"
   ]
  },
  {
   "cell_type": "code",
   "execution_count": 71,
   "id": "ffb524c2-ca0d-49d4-8a0a-b24ca41c4d9d",
   "metadata": {},
   "outputs": [
    {
     "data": {
      "text/plain": [
       "{1, 2, 3, 4}"
      ]
     },
     "execution_count": 71,
     "metadata": {},
     "output_type": "execute_result"
    }
   ],
   "source": [
    "#14. Create a set from a list.\n",
    "x=[1,2,3,4]\n",
    "y=set(x)\n",
    "y"
   ]
  },
  {
   "cell_type": "code",
   "execution_count": 72,
   "id": "5755358b-902c-4a66-b7e8-a56fda848c3c",
   "metadata": {},
   "outputs": [
    {
     "data": {
      "text/plain": [
       "[1, 2, 3, 4]"
      ]
     },
     "execution_count": 72,
     "metadata": {},
     "output_type": "execute_result"
    }
   ],
   "source": [
    "#15. Convert a set to a list.\n",
    "x={1,2,3,4}\n",
    "list(x)"
   ]
  },
  {
   "cell_type": "code",
   "execution_count": 84,
   "id": "a48878c6-0562-4549-9510-c8bca0991bec",
   "metadata": {},
   "outputs": [
    {
     "name": "stdout",
     "output_type": "stream",
     "text": [
      "{1, 3, 4}\n"
     ]
    }
   ],
   "source": [
    "#16. Remove a random element from a set.\n",
    "x={1,2,3,4}\n",
    "x.remove(2)\n",
    "print(x)"
   ]
  },
  {
   "cell_type": "code",
   "execution_count": 85,
   "id": "5e72fea2-c51d-4458-85de-45f7f694acd7",
   "metadata": {},
   "outputs": [
    {
     "data": {
      "text/plain": [
       "1"
      ]
     },
     "execution_count": 85,
     "metadata": {},
     "output_type": "execute_result"
    }
   ],
   "source": [
    "#17. Pop an element from a set.\n",
    "x={1,2,3,4}\n",
    "x.pop()"
   ]
  },
  {
   "cell_type": "code",
   "execution_count": 87,
   "id": "611891d9-a2a2-446b-8f17-741e0c5dcd50",
   "metadata": {},
   "outputs": [
    {
     "data": {
      "text/plain": [
       "False"
      ]
     },
     "execution_count": 87,
     "metadata": {},
     "output_type": "execute_result"
    }
   ],
   "source": [
    "#18. Check if two sets have no elements in common.\n",
    "x={1,2,3,4}\n",
    "y={1,2,3,4,5,6,7}\n",
    "x.isdisjoint(y)"
   ]
  },
  {
   "cell_type": "code",
   "execution_count": 11,
   "id": "427c5421-7bbd-48c8-9e9c-1c66924477e1",
   "metadata": {},
   "outputs": [
    {
     "data": {
      "text/plain": [
       "{3, 6, 7, 8, 9, 13, 14}"
      ]
     },
     "execution_count": 11,
     "metadata": {},
     "output_type": "execute_result"
    }
   ],
   "source": [
    "#19. Find the symmetric difference between two sets.\n",
    "x={1,2,3,4,5,13,14}\n",
    "y={1,2,4,5,6,7,8,9}\n",
    "x.symmetric_difference(y)\n"
   ]
  },
  {
   "cell_type": "code",
   "execution_count": 13,
   "id": "7c69a75b-8770-4db9-bec8-181282640b6f",
   "metadata": {},
   "outputs": [],
   "source": [
    "#20. Update a set with elements from another set.\n",
    "x={1,2,3,4,5}\n",
    "y={6,7,8,9,10}\n",
    "x.update(y)"
   ]
  },
  {
   "cell_type": "code",
   "execution_count": 1,
   "id": "833183b0-2c3b-4091-9dbe-693cbe570c9e",
   "metadata": {},
   "outputs": [],
   "source": [
    "#21. Create a set of the first 5 prime numbers.\n"
   ]
  },
  {
   "cell_type": "code",
   "execution_count": 90,
   "id": "e457ed0e-97c6-4fa7-9413-db3bf9218fc8",
   "metadata": {},
   "outputs": [
    {
     "name": "stdout",
     "output_type": "stream",
     "text": [
      "True\n"
     ]
    }
   ],
   "source": [
    "#22. Check if two sets are identical.\n",
    "x={1,2,3,4,5}\n",
    "y={1,2,3,4,5}\n",
    "if x==y:\n",
    "    print(True)\n",
    "else:\n",
    "    print(False)"
   ]
  },
  {
   "cell_type": "code",
   "execution_count": 8,
   "id": "591d482f-a1e8-4b2e-a563-8f0e0a6fb1c0",
   "metadata": {},
   "outputs": [
    {
     "data": {
      "text/plain": [
       "frozenset({1, 2, 3, 4, 5})"
      ]
     },
     "execution_count": 8,
     "metadata": {},
     "output_type": "execute_result"
    }
   ],
   "source": [
    "#23. Create a frozen set.\n",
    "x={1,2,3,4,5}\n",
    "frozenset(x)"
   ]
  },
  {
   "cell_type": "code",
   "execution_count": 11,
   "id": "15f08b2b-f6d3-4a19-acf3-15bc1b25db3c",
   "metadata": {},
   "outputs": [
    {
     "data": {
      "text/plain": [
       "True"
      ]
     },
     "execution_count": 11,
     "metadata": {},
     "output_type": "execute_result"
    }
   ],
   "source": [
    "#24. Check if a set is disjoint with another set.\n",
    "x={1,2,3,4,5}\n",
    "y={6,7,8,9}\n",
    "x.isdisjoint(y)"
   ]
  },
  {
   "cell_type": "code",
   "execution_count": 10,
   "id": "ea9ee2c4-2b9c-44d3-a86e-f6142a74a097",
   "metadata": {},
   "outputs": [
    {
     "name": "stdout",
     "output_type": "stream",
     "text": [
      "{1, 4, 9, 16, 25}\n"
     ]
    }
   ],
   "source": [
    "#25. Create a set of squares of numbers from 1 to 5.\n",
    "x=6\n",
    "z=[]\n",
    "y=0\n",
    "for every_num in range(1,x):\n",
    "        y+=1\n",
    "        z.append(every_num**2)\n",
    "print(set(z))"
   ]
  },
  {
   "cell_type": "code",
   "execution_count": 2,
   "id": "8c456057-fce5-4b57-a2e8-80fa3e43c135",
   "metadata": {},
   "outputs": [
    {
     "name": "stdout",
     "output_type": "stream",
     "text": [
      "{2, 4, 6, 8, 10}\n"
     ]
    }
   ],
   "source": [
    "#26. Filter out all even numbers from a set.\n",
    "x={1,2,3,4,5,6,7,8,9,10}\n",
    "for every_num in x.copy():\n",
    "    if every_num%2==0:\n",
    "        continue\n",
    "    else:\n",
    "        x.remove(every_num)\n",
    "print(x)"
   ]
  },
  {
   "cell_type": "code",
   "execution_count": 12,
   "id": "66f135c5-ef46-4864-9267-755ab54aacce",
   "metadata": {},
   "outputs": [
    {
     "name": "stdout",
     "output_type": "stream",
     "text": [
      "{2, 4, 6, 8, 10, 12}\n"
     ]
    }
   ],
   "source": [
    "#27. Multiply all elements in a set by 2.\n",
    "x={1,2,3,4,5,6}\n",
    "z=[]\n",
    "for every_num in x:\n",
    "    y=every_num*2\n",
    "    z.append(y)\n",
    "print(set(z))\n"
   ]
  },
  {
   "cell_type": "code",
   "execution_count": 14,
   "id": "a3d27b48-f5ff-4089-9a67-c6951c4d1f3a",
   "metadata": {},
   "outputs": [
    {
     "name": "stdout",
     "output_type": "stream",
     "text": [
      "{2, 4, 5, 6, 11, 15, 20, 21, 26, 27}\n"
     ]
    }
   ],
   "source": [
    "#28. Create a set of random numbers.\n",
    "import random\n",
    "new_list = []\n",
    "for i in range(0,10):\n",
    "    x = random.randint(1,30)\n",
    "    new_list.append(x)\n",
    "print(set(new_list))\n",
    "    "
   ]
  },
  {
   "cell_type": "code",
   "execution_count": 7,
   "id": "fff21fcc-fb0c-4979-a2d5-ea44c90d6907",
   "metadata": {},
   "outputs": [
    {
     "name": "stdout",
     "output_type": "stream",
     "text": [
      "set is empty\n"
     ]
    }
   ],
   "source": [
    "#29.Check if a set is empty.\n",
    "x={}\n",
    "if len(x)==0:\n",
    "    print('set is empty')\n",
    "else:\n",
    "    print('set is not empty')"
   ]
  },
  {
   "cell_type": "code",
   "execution_count": 19,
   "id": "b407927b-bacd-4a3d-8d08-28ae9773931c",
   "metadata": {},
   "outputs": [
    {
     "ename": "TypeError",
     "evalue": "unhashable type: 'set'",
     "output_type": "error",
     "traceback": [
      "\u001b[0;31m---------------------------------------------------------------------------\u001b[0m",
      "\u001b[0;31mTypeError\u001b[0m                                 Traceback (most recent call last)",
      "Cell \u001b[0;32mIn[19], line 2\u001b[0m\n\u001b[1;32m      1\u001b[0m \u001b[38;5;66;03m#30.Create a nested set \u001b[39;00m\n\u001b[0;32m----> 2\u001b[0m x\u001b[38;5;241m=\u001b[39m{\u001b[38;5;241m1\u001b[39m,\u001b[38;5;241m2\u001b[39m,\u001b[38;5;241m3\u001b[39m,{\u001b[38;5;241m4\u001b[39m,\u001b[38;5;241m5\u001b[39m,\u001b[38;5;241m6\u001b[39m,{\u001b[38;5;241m7\u001b[39m,\u001b[38;5;241m8\u001b[39m,\u001b[38;5;241m9\u001b[39m}}}\n\u001b[1;32m      3\u001b[0m \u001b[38;5;28mprint\u001b[39m(x)\n",
      "\u001b[0;31mTypeError\u001b[0m: unhashable type: 'set'"
     ]
    }
   ],
   "source": [
    "#30.Create a nested set \n",
    "x={1,2,3,{4,5,6,{7,8,9}}}\n",
    "print(x)\n"
   ]
  },
  {
   "cell_type": "code",
   "execution_count": 16,
   "id": "9fef3140-fee1-4e6c-b7ec-df44c3dad269",
   "metadata": {},
   "outputs": [
    {
     "name": "stdout",
     "output_type": "stream",
     "text": [
      "{1, 3, 4, 6, 7}\n"
     ]
    }
   ],
   "source": [
    "#31. Remove an element from a set using the discard method.\n",
    "x={1,2,3,4,6,7}\n",
    "x.discard(2)\n",
    "print(x)"
   ]
  },
  {
   "cell_type": "code",
   "execution_count": 17,
   "id": "93ead82b-1dfd-4f57-837d-cf56e0f17542",
   "metadata": {},
   "outputs": [
    {
     "data": {
      "text/plain": [
       "False"
      ]
     },
     "execution_count": 17,
     "metadata": {},
     "output_type": "execute_result"
    }
   ],
   "source": [
    "#32. Compare two sets.\n",
    "x={1,2,3,4,5}\n",
    "y={6,7,8,9,10}\n",
    "x==y"
   ]
  },
  {
   "cell_type": "code",
   "execution_count": 20,
   "id": "f547c707-96c6-448c-aca4-9d7723a2f256",
   "metadata": {},
   "outputs": [
    {
     "data": {
      "text/plain": [
       "{'a', 'i', 'n', 'v', 'y'}"
      ]
     },
     "execution_count": 20,
     "metadata": {},
     "output_type": "execute_result"
    }
   ],
   "source": [
    "#33. Create a set from a string.\n",
    "x=set('vinay')\n",
    "x"
   ]
  },
  {
   "cell_type": "code",
   "execution_count": 23,
   "id": "3218f1ce-b990-4869-8e18-aa47667d7ef1",
   "metadata": {},
   "outputs": [
    {
     "name": "stdout",
     "output_type": "stream",
     "text": [
      "{1, 2, 3, 4, 5}\n"
     ]
    }
   ],
   "source": [
    "#34. Convert a set of strings to a set of integers.\n",
    "\n",
    "x = {\"1\", \"2\", \"3\", \"4\", \"5\"} \n",
    "y = set()\n",
    "\n",
    "for i in x:\n",
    "    y.add(int(i))\n",
    "\n",
    "print(y)\n"
   ]
  },
  {
   "cell_type": "code",
   "execution_count": 24,
   "id": "77bdddb4-f0fc-4fd2-9d17-ee1057ebc231",
   "metadata": {},
   "outputs": [
    {
     "name": "stdout",
     "output_type": "stream",
     "text": [
      "{'2', '1', '3', '4', '5'}\n"
     ]
    }
   ],
   "source": [
    "#35. Convert a set of integers to a set of strings.\n",
    "x = {1, 2, 3, 4, 5}  \n",
    "y = set()\n",
    "\n",
    "for i in x:\n",
    "    y.add(str(i))\n",
    "\n",
    "print(y)\n"
   ]
  },
  {
   "cell_type": "code",
   "execution_count": 1,
   "id": "778a3700-ff9a-475d-a7bb-406dfb5071cc",
   "metadata": {},
   "outputs": [
    {
     "data": {
      "text/plain": [
       "{1, 2, 3, 4}"
      ]
     },
     "execution_count": 1,
     "metadata": {},
     "output_type": "execute_result"
    }
   ],
   "source": [
    "#36. Create a set from a tuple.\n",
    "x=(1,2,3,4)\n",
    "set(x)"
   ]
  },
  {
   "cell_type": "code",
   "execution_count": 6,
   "id": "02a9d5d9-25f5-4408-8f5a-16443350f6e4",
   "metadata": {},
   "outputs": [
    {
     "name": "stdout",
     "output_type": "stream",
     "text": [
      "(1, 2, 3, 4)\n"
     ]
    }
   ],
   "source": [
    "#37. Convert a set to a tuple.\n",
    "x={1,2,3,4}\n",
    "y=tuple(x)\n",
    "print(y)"
   ]
  },
  {
   "cell_type": "code",
   "execution_count": 15,
   "id": "092aebae-5f29-40d9-8a6b-3064d45c2707",
   "metadata": {},
   "outputs": [
    {
     "data": {
      "text/plain": [
       "88"
      ]
     },
     "execution_count": 15,
     "metadata": {},
     "output_type": "execute_result"
    }
   ],
   "source": [
    "#38. Find the maximum value in a set.\n",
    "x={1,4,6,11,22,56,88}\n",
    "max(x)\n",
    "\n"
   ]
  },
  {
   "cell_type": "code",
   "execution_count": 16,
   "id": "ee06b530-c3d4-4e1a-8b58-449476103595",
   "metadata": {},
   "outputs": [
    {
     "data": {
      "text/plain": [
       "1"
      ]
     },
     "execution_count": 16,
     "metadata": {},
     "output_type": "execute_result"
    }
   ],
   "source": [
    "#39. Find the minimum value in a set.\n",
    "x={1,4,6,11,22,56,88}\n",
    "min(x)"
   ]
  },
  {
   "cell_type": "code",
   "execution_count": 17,
   "id": "92b5c3cf-5e5a-4470-b9d9-225461b10dc7",
   "metadata": {},
   "outputs": [
    {
     "name": "stdin",
     "output_type": "stream",
     "text": [
      " adfjldkfls\n"
     ]
    }
   ],
   "source": [
    "#40. Create a set from user input.\n",
    "x=input()\n"
   ]
  },
  {
   "cell_type": "code",
   "execution_count": 19,
   "id": "9b297f17-fe29-449b-a847-ce5b69a3392e",
   "metadata": {},
   "outputs": [
    {
     "data": {
      "text/plain": [
       "{'a', 'd', 'f', 'j', 'k', 'l', 's'}"
      ]
     },
     "execution_count": 19,
     "metadata": {},
     "output_type": "execute_result"
    }
   ],
   "source": [
    "set(x)"
   ]
  },
  {
   "cell_type": "code",
   "execution_count": 21,
   "id": "ff2728f0-2732-4941-ab15-dd6ce4a6949b",
   "metadata": {},
   "outputs": [
    {
     "name": "stdout",
     "output_type": "stream",
     "text": [
      "the intersection of two sets is empty\n"
     ]
    }
   ],
   "source": [
    "#41. Check if the intersection of two sets is empty.\n",
    "x={1,2,3,4,5}\n",
    "y={6,7,8,9,10}\n",
    "if x.isdisjoint(y)==True:\n",
    "    print('the intersection of two sets is empty')\n",
    "else:\n",
    "    print('the intersection of two sets is empty')\n"
   ]
  },
  {
   "cell_type": "code",
   "execution_count": 16,
   "id": "3bbc8e9d-072e-474c-8362-723fa75af6d1",
   "metadata": {},
   "outputs": [
    {
     "name": "stdin",
     "output_type": "stream",
     "text": [
      "enter the number for fibonacci series 4\n"
     ]
    },
    {
     "name": "stdout",
     "output_type": "stream",
     "text": [
      "{1, 2, 3, 5}\n"
     ]
    }
   ],
   "source": [
    "#42. Create a set of the first 5 Fibonacci numbers.\n",
    "x,y=0,1\n",
    "myset=set()\n",
    "c=0\n",
    "z=int(input('enter the number for fibonacci series'))\n",
    "for i in  range(z):\n",
    "    if i<=c:\n",
    "        a=x+y\n",
    "        myset.add(a)\n",
    "        x=y\n",
    "        y=a\n",
    "        c+=1\n",
    "print(myset)        \n",
    "\n"
   ]
  },
  {
   "cell_type": "code",
   "execution_count": 23,
   "id": "4694ce46-c6b2-4087-97f6-b328f3ff1700",
   "metadata": {},
   "outputs": [
    {
     "data": {
      "text/plain": [
       "{1, 2, 4, 6, 7, 8, 9, 22, 33}"
      ]
     },
     "execution_count": 23,
     "metadata": {},
     "output_type": "execute_result"
    }
   ],
   "source": [
    "#43. Remove duplicates from a list using sets.\n",
    "x=[1,2,22,22,2,33,33,4,6,7,8,9,4,6,9]\n",
    "set(x)"
   ]
  },
  {
   "cell_type": "code",
   "execution_count": 30,
   "id": "e6b3c437-4d89-4a6e-a16b-528aeba58cb2",
   "metadata": {},
   "outputs": [
    {
     "name": "stdout",
     "output_type": "stream",
     "text": [
      "The sets have the same elements\n"
     ]
    }
   ],
   "source": [
    "#44. Check if two sets have the same elements, regardless of their count.\n",
    "set1 = {1, 2, 3, 4, 5,6}\n",
    "set2 = {6,5, 4, 3, 2, 1}\n",
    "\n",
    "if set1 == set2:\n",
    "    print(\"The sets have the same elements\")\n",
    "else:\n",
    "    print(\"The sets are different.\")\n"
   ]
  },
  {
   "cell_type": "code",
   "execution_count": 3,
   "id": "bdcda73a-0450-4754-b2cb-1bde0d4e5503",
   "metadata": {},
   "outputs": [
    {
     "name": "stdout",
     "output_type": "stream",
     "text": [
      "{1, 2, 4, 8, 16}\n"
     ]
    }
   ],
   "source": [
    "#45. Create a set of the first `n` powers of 2.\n",
    "n=5\n",
    "x= set()\n",
    "y = 1\n",
    "for i in range(n):\n",
    "    y=2**i\n",
    "    x.add(y)\n",
    "print(x)\n",
    "\n"
   ]
  },
  {
   "cell_type": "code",
   "execution_count": 7,
   "id": "2b989028-b0e0-455f-b028-b520735dd575",
   "metadata": {},
   "outputs": [
    {
     "name": "stdout",
     "output_type": "stream",
     "text": [
      "{2, 4, 5}\n"
     ]
    }
   ],
   "source": [
    "#46. Find the common elements between a set and a list.\n",
    "x={1,2,3,4,5}\n",
    "y=[2,4,5,6,7,8]\n",
    "c=x.intersection(y)\n",
    "\n",
    "print(c)"
   ]
  },
  {
   "cell_type": "code",
   "execution_count": 24,
   "id": "d3748f23-52ed-47c7-93fa-86df8e05dc25",
   "metadata": {},
   "outputs": [
    {
     "data": {
      "text/plain": [
       "True"
      ]
     },
     "execution_count": 24,
     "metadata": {},
     "output_type": "execute_result"
    }
   ],
   "source": [
    "#48. Check if a set contains another set as a subset.\n",
    "x={1,2,3,4}\n",
    "y={1,2,3,4,5,6,7}\n",
    "x.issubset(y)"
   ]
  },
  {
   "cell_type": "code",
   "execution_count": 15,
   "id": "6cf1bdcb-afac-452f-910a-3dfe0b265116",
   "metadata": {},
   "outputs": [
    {
     "name": "stdin",
     "output_type": "stream",
     "text": [
      "enter a number 5\n"
     ]
    },
    {
     "name": "stdout",
     "output_type": "stream",
     "text": [
      "{0, 1, 4, 10, 20}\n"
     ]
    }
   ],
   "source": [
    "#47. Create a set of the first `n` triangular numbers.\n",
    "a=int(input('enter a number'))\n",
    "new_set=set()\n",
    "c=0\n",
    "for i in range(a):\n",
    "    c=c+(i*(i+1)/2)\n",
    "    new_set.add(int(c))\n",
    "print(new_set)"
   ]
  },
  {
   "cell_type": "code",
   "execution_count": 2,
   "id": "129ece6c-3216-4c9d-aeec-e9cdeb3c82f3",
   "metadata": {},
   "outputs": [
    {
     "name": "stdout",
     "output_type": "stream",
     "text": [
      "{0, 1}\n"
     ]
    }
   ],
   "source": [
    "#49. Create a set of alternating 1s and 0s of length `n`.\n",
    "x=[]\n",
    "for i in range(0,10,1):\n",
    "    if i%2==0:\n",
    "        x.append(1)\n",
    "    else:\n",
    "        x.append(0)\n",
    "print(set(x))"
   ]
  },
  {
   "cell_type": "code",
   "execution_count": 25,
   "id": "64b7d923-959b-47ce-bc82-5fef1c34f4f8",
   "metadata": {},
   "outputs": [
    {
     "name": "stdout",
     "output_type": "stream",
     "text": [
      "{1, 2, 3, 4, (2+3j), (4+5j), 'b', 'a', 'c'}\n"
     ]
    }
   ],
   "source": [
    "#50. Merge multiple sets into one.\n",
    "x={1,2,3,4}\n",
    "y={'a','b','c'}\n",
    "z={2+3j,4+5j}\n",
    "a=set.union(x).union(y).union(z)\n",
    "print(a)"
   ]
  },
  {
   "cell_type": "code",
   "execution_count": null,
   "id": "bcd8a2ac-2415-45d7-a9e4-ae4a4a619918",
   "metadata": {},
   "outputs": [],
   "source": []
  }
 ],
 "metadata": {
  "kernelspec": {
   "display_name": "Python 3 (ipykernel)",
   "language": "python",
   "name": "python3"
  },
  "language_info": {
   "codemirror_mode": {
    "name": "ipython",
    "version": 3
   },
   "file_extension": ".py",
   "mimetype": "text/x-python",
   "name": "python",
   "nbconvert_exporter": "python",
   "pygments_lexer": "ipython3",
   "version": "3.10.8"
  }
 },
 "nbformat": 4,
 "nbformat_minor": 5
}
